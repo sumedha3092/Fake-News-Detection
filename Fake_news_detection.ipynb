{
 "cells": [
  {
   "cell_type": "markdown",
   "metadata": {},
   "source": [
    "# FAKE NEWS DETECTION SYSTEM USING PYTHON AND MACHINE LEARNING\n"
   ]
  },
  {
   "cell_type": "markdown",
   "metadata": {},
   "source": [
    "# Required Libraries"
   ]
  },
  {
   "cell_type": "markdown",
   "metadata": {},
   "source": [
    "Step 1 :We are importing the required libraries in python for our system ."
   ]
  },
  {
   "cell_type": "code",
   "execution_count": 78,
   "metadata": {
    "id": "VYGBgRsinF_4"
   },
   "outputs": [],
   "source": [
    "import numpy as np\n",
    "import pandas as pd\n",
    "import matplotlib.pyplot as plt\n",
    "from sklearn.model_selection import train_test_split\n",
    "from sklearn.metrics import accuracy_score\n",
    "from sklearn.metrics import classification_report\n",
    "import re\n",
    "import string"
   ]
  },
  {
   "cell_type": "markdown",
   "metadata": {
    "id": "9X33kHJlnF_5"
   },
   "source": [
    "### Inserting fake and real dataset"
   ]
  },
  {
   "cell_type": "markdown",
   "metadata": {},
   "source": [
    "# Introduction to Dataset"
   ]
  },
  {
   "cell_type": "markdown",
   "metadata": {},
   "source": [
    "Step 2 : Here we are introducing the datasets and allowing pandas to load the files in the system"
   ]
  },
  {
   "cell_type": "code",
   "execution_count": 79,
   "metadata": {
    "id": "KWQkb95InF_6"
   },
   "outputs": [],
   "source": [
    "fake_dataSet = pd.read_csv(\"Fake.csv\")\n",
    "true_dataSet = pd.read_csv(\"True.csv\")"
   ]
  },
  {
   "cell_type": "code",
   "execution_count": 80,
   "metadata": {
    "id": "XaqDaJm2nF_6",
    "outputId": "cb15a39b-2678-4f8b-f001-3cc08d157c04"
   },
   "outputs": [
    {
     "data": {
      "text/html": [
       "<div>\n",
       "<style scoped>\n",
       "    .dataframe tbody tr th:only-of-type {\n",
       "        vertical-align: middle;\n",
       "    }\n",
       "\n",
       "    .dataframe tbody tr th {\n",
       "        vertical-align: top;\n",
       "    }\n",
       "\n",
       "    .dataframe thead th {\n",
       "        text-align: right;\n",
       "    }\n",
       "</style>\n",
       "<table border=\"1\" class=\"dataframe\">\n",
       "  <thead>\n",
       "    <tr style=\"text-align: right;\">\n",
       "      <th></th>\n",
       "      <th>title</th>\n",
       "      <th>text</th>\n",
       "      <th>subject</th>\n",
       "      <th>date</th>\n",
       "    </tr>\n",
       "  </thead>\n",
       "  <tbody>\n",
       "    <tr>\n",
       "      <th>0</th>\n",
       "      <td>As U.S. budget fight looms, Republicans flip t...</td>\n",
       "      <td>WASHINGTON (Reuters) - The head of a conservat...</td>\n",
       "      <td>politicsNews</td>\n",
       "      <td>December 31, 2017</td>\n",
       "    </tr>\n",
       "    <tr>\n",
       "      <th>1</th>\n",
       "      <td>U.S. military to accept transgender recruits o...</td>\n",
       "      <td>WASHINGTON (Reuters) - Transgender people will...</td>\n",
       "      <td>politicsNews</td>\n",
       "      <td>December 29, 2017</td>\n",
       "    </tr>\n",
       "    <tr>\n",
       "      <th>2</th>\n",
       "      <td>Senior U.S. Republican senator: 'Let Mr. Muell...</td>\n",
       "      <td>WASHINGTON (Reuters) - The special counsel inv...</td>\n",
       "      <td>politicsNews</td>\n",
       "      <td>December 31, 2017</td>\n",
       "    </tr>\n",
       "    <tr>\n",
       "      <th>3</th>\n",
       "      <td>FBI Russia probe helped by Australian diplomat...</td>\n",
       "      <td>WASHINGTON (Reuters) - Trump campaign adviser ...</td>\n",
       "      <td>politicsNews</td>\n",
       "      <td>December 30, 2017</td>\n",
       "    </tr>\n",
       "    <tr>\n",
       "      <th>4</th>\n",
       "      <td>Trump wants Postal Service to charge 'much mor...</td>\n",
       "      <td>SEATTLE/WASHINGTON (Reuters) - President Donal...</td>\n",
       "      <td>politicsNews</td>\n",
       "      <td>December 29, 2017</td>\n",
       "    </tr>\n",
       "    <tr>\n",
       "      <th>...</th>\n",
       "      <td>...</td>\n",
       "      <td>...</td>\n",
       "      <td>...</td>\n",
       "      <td>...</td>\n",
       "    </tr>\n",
       "    <tr>\n",
       "      <th>21412</th>\n",
       "      <td>'Fully committed' NATO backs new U.S. approach...</td>\n",
       "      <td>BRUSSELS (Reuters) - NATO allies on Tuesday we...</td>\n",
       "      <td>worldnews</td>\n",
       "      <td>August 22, 2017</td>\n",
       "    </tr>\n",
       "    <tr>\n",
       "      <th>21413</th>\n",
       "      <td>LexisNexis withdrew two products from Chinese ...</td>\n",
       "      <td>LONDON (Reuters) - LexisNexis, a provider of l...</td>\n",
       "      <td>worldnews</td>\n",
       "      <td>August 22, 2017</td>\n",
       "    </tr>\n",
       "    <tr>\n",
       "      <th>21414</th>\n",
       "      <td>Minsk cultural hub becomes haven from authorities</td>\n",
       "      <td>MINSK (Reuters) - In the shadow of disused Sov...</td>\n",
       "      <td>worldnews</td>\n",
       "      <td>August 22, 2017</td>\n",
       "    </tr>\n",
       "    <tr>\n",
       "      <th>21415</th>\n",
       "      <td>Vatican upbeat on possibility of Pope Francis ...</td>\n",
       "      <td>MOSCOW (Reuters) - Vatican Secretary of State ...</td>\n",
       "      <td>worldnews</td>\n",
       "      <td>August 22, 2017</td>\n",
       "    </tr>\n",
       "    <tr>\n",
       "      <th>21416</th>\n",
       "      <td>Indonesia to buy $1.14 billion worth of Russia...</td>\n",
       "      <td>JAKARTA (Reuters) - Indonesia will buy 11 Sukh...</td>\n",
       "      <td>worldnews</td>\n",
       "      <td>August 22, 2017</td>\n",
       "    </tr>\n",
       "  </tbody>\n",
       "</table>\n",
       "<p>21417 rows × 4 columns</p>\n",
       "</div>"
      ],
      "text/plain": [
       "                                                   title  \\\n",
       "0      As U.S. budget fight looms, Republicans flip t...   \n",
       "1      U.S. military to accept transgender recruits o...   \n",
       "2      Senior U.S. Republican senator: 'Let Mr. Muell...   \n",
       "3      FBI Russia probe helped by Australian diplomat...   \n",
       "4      Trump wants Postal Service to charge 'much mor...   \n",
       "...                                                  ...   \n",
       "21412  'Fully committed' NATO backs new U.S. approach...   \n",
       "21413  LexisNexis withdrew two products from Chinese ...   \n",
       "21414  Minsk cultural hub becomes haven from authorities   \n",
       "21415  Vatican upbeat on possibility of Pope Francis ...   \n",
       "21416  Indonesia to buy $1.14 billion worth of Russia...   \n",
       "\n",
       "                                                    text       subject  \\\n",
       "0      WASHINGTON (Reuters) - The head of a conservat...  politicsNews   \n",
       "1      WASHINGTON (Reuters) - Transgender people will...  politicsNews   \n",
       "2      WASHINGTON (Reuters) - The special counsel inv...  politicsNews   \n",
       "3      WASHINGTON (Reuters) - Trump campaign adviser ...  politicsNews   \n",
       "4      SEATTLE/WASHINGTON (Reuters) - President Donal...  politicsNews   \n",
       "...                                                  ...           ...   \n",
       "21412  BRUSSELS (Reuters) - NATO allies on Tuesday we...     worldnews   \n",
       "21413  LONDON (Reuters) - LexisNexis, a provider of l...     worldnews   \n",
       "21414  MINSK (Reuters) - In the shadow of disused Sov...     worldnews   \n",
       "21415  MOSCOW (Reuters) - Vatican Secretary of State ...     worldnews   \n",
       "21416  JAKARTA (Reuters) - Indonesia will buy 11 Sukh...     worldnews   \n",
       "\n",
       "                     date  \n",
       "0      December 31, 2017   \n",
       "1      December 29, 2017   \n",
       "2      December 31, 2017   \n",
       "3      December 30, 2017   \n",
       "4      December 29, 2017   \n",
       "...                   ...  \n",
       "21412    August 22, 2017   \n",
       "21413    August 22, 2017   \n",
       "21414    August 22, 2017   \n",
       "21415    August 22, 2017   \n",
       "21416    August 22, 2017   \n",
       "\n",
       "[21417 rows x 4 columns]"
      ]
     },
     "execution_count": 80,
     "metadata": {},
     "output_type": "execute_result"
    }
   ],
   "source": [
    "true_dataSet #displaying dataset"
   ]
  },
  {
   "cell_type": "code",
   "execution_count": 81,
   "metadata": {
    "id": "7PO6YwKknF_7",
    "outputId": "ec381b37-7bb1-4d93-f122-b9aa04bd5bd5"
   },
   "outputs": [
    {
     "data": {
      "text/html": [
       "<div>\n",
       "<style scoped>\n",
       "    .dataframe tbody tr th:only-of-type {\n",
       "        vertical-align: middle;\n",
       "    }\n",
       "\n",
       "    .dataframe tbody tr th {\n",
       "        vertical-align: top;\n",
       "    }\n",
       "\n",
       "    .dataframe thead th {\n",
       "        text-align: right;\n",
       "    }\n",
       "</style>\n",
       "<table border=\"1\" class=\"dataframe\">\n",
       "  <thead>\n",
       "    <tr style=\"text-align: right;\">\n",
       "      <th></th>\n",
       "      <th>title</th>\n",
       "      <th>text</th>\n",
       "      <th>subject</th>\n",
       "      <th>date</th>\n",
       "    </tr>\n",
       "  </thead>\n",
       "  <tbody>\n",
       "    <tr>\n",
       "      <th>0</th>\n",
       "      <td>Donald Trump Sends Out Embarrassing New Year’...</td>\n",
       "      <td>Donald Trump just couldn t wish all Americans ...</td>\n",
       "      <td>News</td>\n",
       "      <td>December 31, 2017</td>\n",
       "    </tr>\n",
       "    <tr>\n",
       "      <th>1</th>\n",
       "      <td>Drunk Bragging Trump Staffer Started Russian ...</td>\n",
       "      <td>House Intelligence Committee Chairman Devin Nu...</td>\n",
       "      <td>News</td>\n",
       "      <td>December 31, 2017</td>\n",
       "    </tr>\n",
       "    <tr>\n",
       "      <th>2</th>\n",
       "      <td>Sheriff David Clarke Becomes An Internet Joke...</td>\n",
       "      <td>On Friday, it was revealed that former Milwauk...</td>\n",
       "      <td>News</td>\n",
       "      <td>December 30, 2017</td>\n",
       "    </tr>\n",
       "    <tr>\n",
       "      <th>3</th>\n",
       "      <td>Trump Is So Obsessed He Even Has Obama’s Name...</td>\n",
       "      <td>On Christmas day, Donald Trump announced that ...</td>\n",
       "      <td>News</td>\n",
       "      <td>December 29, 2017</td>\n",
       "    </tr>\n",
       "    <tr>\n",
       "      <th>4</th>\n",
       "      <td>Pope Francis Just Called Out Donald Trump Dur...</td>\n",
       "      <td>Pope Francis used his annual Christmas Day mes...</td>\n",
       "      <td>News</td>\n",
       "      <td>December 25, 2017</td>\n",
       "    </tr>\n",
       "    <tr>\n",
       "      <th>...</th>\n",
       "      <td>...</td>\n",
       "      <td>...</td>\n",
       "      <td>...</td>\n",
       "      <td>...</td>\n",
       "    </tr>\n",
       "    <tr>\n",
       "      <th>23476</th>\n",
       "      <td>McPain: John McCain Furious That Iran Treated ...</td>\n",
       "      <td>21st Century Wire says As 21WIRE reported earl...</td>\n",
       "      <td>Middle-east</td>\n",
       "      <td>January 16, 2016</td>\n",
       "    </tr>\n",
       "    <tr>\n",
       "      <th>23477</th>\n",
       "      <td>JUSTICE? Yahoo Settles E-mail Privacy Class-ac...</td>\n",
       "      <td>21st Century Wire says It s a familiar theme. ...</td>\n",
       "      <td>Middle-east</td>\n",
       "      <td>January 16, 2016</td>\n",
       "    </tr>\n",
       "    <tr>\n",
       "      <th>23478</th>\n",
       "      <td>Sunnistan: US and Allied ‘Safe Zone’ Plan to T...</td>\n",
       "      <td>Patrick Henningsen  21st Century WireRemember ...</td>\n",
       "      <td>Middle-east</td>\n",
       "      <td>January 15, 2016</td>\n",
       "    </tr>\n",
       "    <tr>\n",
       "      <th>23479</th>\n",
       "      <td>How to Blow $700 Million: Al Jazeera America F...</td>\n",
       "      <td>21st Century Wire says Al Jazeera America will...</td>\n",
       "      <td>Middle-east</td>\n",
       "      <td>January 14, 2016</td>\n",
       "    </tr>\n",
       "    <tr>\n",
       "      <th>23480</th>\n",
       "      <td>10 U.S. Navy Sailors Held by Iranian Military ...</td>\n",
       "      <td>21st Century Wire says As 21WIRE predicted in ...</td>\n",
       "      <td>Middle-east</td>\n",
       "      <td>January 12, 2016</td>\n",
       "    </tr>\n",
       "  </tbody>\n",
       "</table>\n",
       "<p>23481 rows × 4 columns</p>\n",
       "</div>"
      ],
      "text/plain": [
       "                                                   title  \\\n",
       "0       Donald Trump Sends Out Embarrassing New Year’...   \n",
       "1       Drunk Bragging Trump Staffer Started Russian ...   \n",
       "2       Sheriff David Clarke Becomes An Internet Joke...   \n",
       "3       Trump Is So Obsessed He Even Has Obama’s Name...   \n",
       "4       Pope Francis Just Called Out Donald Trump Dur...   \n",
       "...                                                  ...   \n",
       "23476  McPain: John McCain Furious That Iran Treated ...   \n",
       "23477  JUSTICE? Yahoo Settles E-mail Privacy Class-ac...   \n",
       "23478  Sunnistan: US and Allied ‘Safe Zone’ Plan to T...   \n",
       "23479  How to Blow $700 Million: Al Jazeera America F...   \n",
       "23480  10 U.S. Navy Sailors Held by Iranian Military ...   \n",
       "\n",
       "                                                    text      subject  \\\n",
       "0      Donald Trump just couldn t wish all Americans ...         News   \n",
       "1      House Intelligence Committee Chairman Devin Nu...         News   \n",
       "2      On Friday, it was revealed that former Milwauk...         News   \n",
       "3      On Christmas day, Donald Trump announced that ...         News   \n",
       "4      Pope Francis used his annual Christmas Day mes...         News   \n",
       "...                                                  ...          ...   \n",
       "23476  21st Century Wire says As 21WIRE reported earl...  Middle-east   \n",
       "23477  21st Century Wire says It s a familiar theme. ...  Middle-east   \n",
       "23478  Patrick Henningsen  21st Century WireRemember ...  Middle-east   \n",
       "23479  21st Century Wire says Al Jazeera America will...  Middle-east   \n",
       "23480  21st Century Wire says As 21WIRE predicted in ...  Middle-east   \n",
       "\n",
       "                    date  \n",
       "0      December 31, 2017  \n",
       "1      December 31, 2017  \n",
       "2      December 30, 2017  \n",
       "3      December 29, 2017  \n",
       "4      December 25, 2017  \n",
       "...                  ...  \n",
       "23476   January 16, 2016  \n",
       "23477   January 16, 2016  \n",
       "23478   January 15, 2016  \n",
       "23479   January 14, 2016  \n",
       "23480   January 12, 2016  \n",
       "\n",
       "[23481 rows x 4 columns]"
      ]
     },
     "execution_count": 81,
     "metadata": {},
     "output_type": "execute_result"
    }
   ],
   "source": [
    "fake_dataSet # displaying dataset"
   ]
  },
  {
   "cell_type": "markdown",
   "metadata": {},
   "source": [
    "Step 3 : Here our motive is to add an column to dataset tables inorder to title the news either fake or true news."
   ]
  },
  {
   "cell_type": "code",
   "execution_count": 82,
   "metadata": {
    "id": "RGgygawnnF_9"
   },
   "outputs": [],
   "source": [
    "fake_dataSet[\"fake/true\"] = 0\n",
    "true_dataSet[\"fake/true\"] = 1"
   ]
  },
  {
   "cell_type": "code",
   "execution_count": 83,
   "metadata": {},
   "outputs": [
    {
     "data": {
      "text/html": [
       "<div>\n",
       "<style scoped>\n",
       "    .dataframe tbody tr th:only-of-type {\n",
       "        vertical-align: middle;\n",
       "    }\n",
       "\n",
       "    .dataframe tbody tr th {\n",
       "        vertical-align: top;\n",
       "    }\n",
       "\n",
       "    .dataframe thead th {\n",
       "        text-align: right;\n",
       "    }\n",
       "</style>\n",
       "<table border=\"1\" class=\"dataframe\">\n",
       "  <thead>\n",
       "    <tr style=\"text-align: right;\">\n",
       "      <th></th>\n",
       "      <th>title</th>\n",
       "      <th>text</th>\n",
       "      <th>subject</th>\n",
       "      <th>date</th>\n",
       "      <th>fake/true</th>\n",
       "    </tr>\n",
       "  </thead>\n",
       "  <tbody>\n",
       "    <tr>\n",
       "      <th>0</th>\n",
       "      <td>Donald Trump Sends Out Embarrassing New Year’...</td>\n",
       "      <td>Donald Trump just couldn t wish all Americans ...</td>\n",
       "      <td>News</td>\n",
       "      <td>December 31, 2017</td>\n",
       "      <td>0</td>\n",
       "    </tr>\n",
       "    <tr>\n",
       "      <th>1</th>\n",
       "      <td>Drunk Bragging Trump Staffer Started Russian ...</td>\n",
       "      <td>House Intelligence Committee Chairman Devin Nu...</td>\n",
       "      <td>News</td>\n",
       "      <td>December 31, 2017</td>\n",
       "      <td>0</td>\n",
       "    </tr>\n",
       "    <tr>\n",
       "      <th>2</th>\n",
       "      <td>Sheriff David Clarke Becomes An Internet Joke...</td>\n",
       "      <td>On Friday, it was revealed that former Milwauk...</td>\n",
       "      <td>News</td>\n",
       "      <td>December 30, 2017</td>\n",
       "      <td>0</td>\n",
       "    </tr>\n",
       "    <tr>\n",
       "      <th>3</th>\n",
       "      <td>Trump Is So Obsessed He Even Has Obama’s Name...</td>\n",
       "      <td>On Christmas day, Donald Trump announced that ...</td>\n",
       "      <td>News</td>\n",
       "      <td>December 29, 2017</td>\n",
       "      <td>0</td>\n",
       "    </tr>\n",
       "    <tr>\n",
       "      <th>4</th>\n",
       "      <td>Pope Francis Just Called Out Donald Trump Dur...</td>\n",
       "      <td>Pope Francis used his annual Christmas Day mes...</td>\n",
       "      <td>News</td>\n",
       "      <td>December 25, 2017</td>\n",
       "      <td>0</td>\n",
       "    </tr>\n",
       "    <tr>\n",
       "      <th>...</th>\n",
       "      <td>...</td>\n",
       "      <td>...</td>\n",
       "      <td>...</td>\n",
       "      <td>...</td>\n",
       "      <td>...</td>\n",
       "    </tr>\n",
       "    <tr>\n",
       "      <th>23476</th>\n",
       "      <td>McPain: John McCain Furious That Iran Treated ...</td>\n",
       "      <td>21st Century Wire says As 21WIRE reported earl...</td>\n",
       "      <td>Middle-east</td>\n",
       "      <td>January 16, 2016</td>\n",
       "      <td>0</td>\n",
       "    </tr>\n",
       "    <tr>\n",
       "      <th>23477</th>\n",
       "      <td>JUSTICE? Yahoo Settles E-mail Privacy Class-ac...</td>\n",
       "      <td>21st Century Wire says It s a familiar theme. ...</td>\n",
       "      <td>Middle-east</td>\n",
       "      <td>January 16, 2016</td>\n",
       "      <td>0</td>\n",
       "    </tr>\n",
       "    <tr>\n",
       "      <th>23478</th>\n",
       "      <td>Sunnistan: US and Allied ‘Safe Zone’ Plan to T...</td>\n",
       "      <td>Patrick Henningsen  21st Century WireRemember ...</td>\n",
       "      <td>Middle-east</td>\n",
       "      <td>January 15, 2016</td>\n",
       "      <td>0</td>\n",
       "    </tr>\n",
       "    <tr>\n",
       "      <th>23479</th>\n",
       "      <td>How to Blow $700 Million: Al Jazeera America F...</td>\n",
       "      <td>21st Century Wire says Al Jazeera America will...</td>\n",
       "      <td>Middle-east</td>\n",
       "      <td>January 14, 2016</td>\n",
       "      <td>0</td>\n",
       "    </tr>\n",
       "    <tr>\n",
       "      <th>23480</th>\n",
       "      <td>10 U.S. Navy Sailors Held by Iranian Military ...</td>\n",
       "      <td>21st Century Wire says As 21WIRE predicted in ...</td>\n",
       "      <td>Middle-east</td>\n",
       "      <td>January 12, 2016</td>\n",
       "      <td>0</td>\n",
       "    </tr>\n",
       "  </tbody>\n",
       "</table>\n",
       "<p>23481 rows × 5 columns</p>\n",
       "</div>"
      ],
      "text/plain": [
       "                                                   title  \\\n",
       "0       Donald Trump Sends Out Embarrassing New Year’...   \n",
       "1       Drunk Bragging Trump Staffer Started Russian ...   \n",
       "2       Sheriff David Clarke Becomes An Internet Joke...   \n",
       "3       Trump Is So Obsessed He Even Has Obama’s Name...   \n",
       "4       Pope Francis Just Called Out Donald Trump Dur...   \n",
       "...                                                  ...   \n",
       "23476  McPain: John McCain Furious That Iran Treated ...   \n",
       "23477  JUSTICE? Yahoo Settles E-mail Privacy Class-ac...   \n",
       "23478  Sunnistan: US and Allied ‘Safe Zone’ Plan to T...   \n",
       "23479  How to Blow $700 Million: Al Jazeera America F...   \n",
       "23480  10 U.S. Navy Sailors Held by Iranian Military ...   \n",
       "\n",
       "                                                    text      subject  \\\n",
       "0      Donald Trump just couldn t wish all Americans ...         News   \n",
       "1      House Intelligence Committee Chairman Devin Nu...         News   \n",
       "2      On Friday, it was revealed that former Milwauk...         News   \n",
       "3      On Christmas day, Donald Trump announced that ...         News   \n",
       "4      Pope Francis used his annual Christmas Day mes...         News   \n",
       "...                                                  ...          ...   \n",
       "23476  21st Century Wire says As 21WIRE reported earl...  Middle-east   \n",
       "23477  21st Century Wire says It s a familiar theme. ...  Middle-east   \n",
       "23478  Patrick Henningsen  21st Century WireRemember ...  Middle-east   \n",
       "23479  21st Century Wire says Al Jazeera America will...  Middle-east   \n",
       "23480  21st Century Wire says As 21WIRE predicted in ...  Middle-east   \n",
       "\n",
       "                    date  fake/true  \n",
       "0      December 31, 2017          0  \n",
       "1      December 31, 2017          0  \n",
       "2      December 30, 2017          0  \n",
       "3      December 29, 2017          0  \n",
       "4      December 25, 2017          0  \n",
       "...                  ...        ...  \n",
       "23476   January 16, 2016          0  \n",
       "23477   January 16, 2016          0  \n",
       "23478   January 15, 2016          0  \n",
       "23479   January 14, 2016          0  \n",
       "23480   January 12, 2016          0  \n",
       "\n",
       "[23481 rows x 5 columns]"
      ]
     },
     "execution_count": 83,
     "metadata": {},
     "output_type": "execute_result"
    }
   ],
   "source": [
    "fake_dataSet"
   ]
  },
  {
   "cell_type": "code",
   "execution_count": 84,
   "metadata": {},
   "outputs": [
    {
     "data": {
      "text/html": [
       "<div>\n",
       "<style scoped>\n",
       "    .dataframe tbody tr th:only-of-type {\n",
       "        vertical-align: middle;\n",
       "    }\n",
       "\n",
       "    .dataframe tbody tr th {\n",
       "        vertical-align: top;\n",
       "    }\n",
       "\n",
       "    .dataframe thead th {\n",
       "        text-align: right;\n",
       "    }\n",
       "</style>\n",
       "<table border=\"1\" class=\"dataframe\">\n",
       "  <thead>\n",
       "    <tr style=\"text-align: right;\">\n",
       "      <th></th>\n",
       "      <th>title</th>\n",
       "      <th>text</th>\n",
       "      <th>subject</th>\n",
       "      <th>date</th>\n",
       "      <th>fake/true</th>\n",
       "    </tr>\n",
       "  </thead>\n",
       "  <tbody>\n",
       "    <tr>\n",
       "      <th>0</th>\n",
       "      <td>As U.S. budget fight looms, Republicans flip t...</td>\n",
       "      <td>WASHINGTON (Reuters) - The head of a conservat...</td>\n",
       "      <td>politicsNews</td>\n",
       "      <td>December 31, 2017</td>\n",
       "      <td>1</td>\n",
       "    </tr>\n",
       "    <tr>\n",
       "      <th>1</th>\n",
       "      <td>U.S. military to accept transgender recruits o...</td>\n",
       "      <td>WASHINGTON (Reuters) - Transgender people will...</td>\n",
       "      <td>politicsNews</td>\n",
       "      <td>December 29, 2017</td>\n",
       "      <td>1</td>\n",
       "    </tr>\n",
       "    <tr>\n",
       "      <th>2</th>\n",
       "      <td>Senior U.S. Republican senator: 'Let Mr. Muell...</td>\n",
       "      <td>WASHINGTON (Reuters) - The special counsel inv...</td>\n",
       "      <td>politicsNews</td>\n",
       "      <td>December 31, 2017</td>\n",
       "      <td>1</td>\n",
       "    </tr>\n",
       "    <tr>\n",
       "      <th>3</th>\n",
       "      <td>FBI Russia probe helped by Australian diplomat...</td>\n",
       "      <td>WASHINGTON (Reuters) - Trump campaign adviser ...</td>\n",
       "      <td>politicsNews</td>\n",
       "      <td>December 30, 2017</td>\n",
       "      <td>1</td>\n",
       "    </tr>\n",
       "    <tr>\n",
       "      <th>4</th>\n",
       "      <td>Trump wants Postal Service to charge 'much mor...</td>\n",
       "      <td>SEATTLE/WASHINGTON (Reuters) - President Donal...</td>\n",
       "      <td>politicsNews</td>\n",
       "      <td>December 29, 2017</td>\n",
       "      <td>1</td>\n",
       "    </tr>\n",
       "    <tr>\n",
       "      <th>...</th>\n",
       "      <td>...</td>\n",
       "      <td>...</td>\n",
       "      <td>...</td>\n",
       "      <td>...</td>\n",
       "      <td>...</td>\n",
       "    </tr>\n",
       "    <tr>\n",
       "      <th>21412</th>\n",
       "      <td>'Fully committed' NATO backs new U.S. approach...</td>\n",
       "      <td>BRUSSELS (Reuters) - NATO allies on Tuesday we...</td>\n",
       "      <td>worldnews</td>\n",
       "      <td>August 22, 2017</td>\n",
       "      <td>1</td>\n",
       "    </tr>\n",
       "    <tr>\n",
       "      <th>21413</th>\n",
       "      <td>LexisNexis withdrew two products from Chinese ...</td>\n",
       "      <td>LONDON (Reuters) - LexisNexis, a provider of l...</td>\n",
       "      <td>worldnews</td>\n",
       "      <td>August 22, 2017</td>\n",
       "      <td>1</td>\n",
       "    </tr>\n",
       "    <tr>\n",
       "      <th>21414</th>\n",
       "      <td>Minsk cultural hub becomes haven from authorities</td>\n",
       "      <td>MINSK (Reuters) - In the shadow of disused Sov...</td>\n",
       "      <td>worldnews</td>\n",
       "      <td>August 22, 2017</td>\n",
       "      <td>1</td>\n",
       "    </tr>\n",
       "    <tr>\n",
       "      <th>21415</th>\n",
       "      <td>Vatican upbeat on possibility of Pope Francis ...</td>\n",
       "      <td>MOSCOW (Reuters) - Vatican Secretary of State ...</td>\n",
       "      <td>worldnews</td>\n",
       "      <td>August 22, 2017</td>\n",
       "      <td>1</td>\n",
       "    </tr>\n",
       "    <tr>\n",
       "      <th>21416</th>\n",
       "      <td>Indonesia to buy $1.14 billion worth of Russia...</td>\n",
       "      <td>JAKARTA (Reuters) - Indonesia will buy 11 Sukh...</td>\n",
       "      <td>worldnews</td>\n",
       "      <td>August 22, 2017</td>\n",
       "      <td>1</td>\n",
       "    </tr>\n",
       "  </tbody>\n",
       "</table>\n",
       "<p>21417 rows × 5 columns</p>\n",
       "</div>"
      ],
      "text/plain": [
       "                                                   title  \\\n",
       "0      As U.S. budget fight looms, Republicans flip t...   \n",
       "1      U.S. military to accept transgender recruits o...   \n",
       "2      Senior U.S. Republican senator: 'Let Mr. Muell...   \n",
       "3      FBI Russia probe helped by Australian diplomat...   \n",
       "4      Trump wants Postal Service to charge 'much mor...   \n",
       "...                                                  ...   \n",
       "21412  'Fully committed' NATO backs new U.S. approach...   \n",
       "21413  LexisNexis withdrew two products from Chinese ...   \n",
       "21414  Minsk cultural hub becomes haven from authorities   \n",
       "21415  Vatican upbeat on possibility of Pope Francis ...   \n",
       "21416  Indonesia to buy $1.14 billion worth of Russia...   \n",
       "\n",
       "                                                    text       subject  \\\n",
       "0      WASHINGTON (Reuters) - The head of a conservat...  politicsNews   \n",
       "1      WASHINGTON (Reuters) - Transgender people will...  politicsNews   \n",
       "2      WASHINGTON (Reuters) - The special counsel inv...  politicsNews   \n",
       "3      WASHINGTON (Reuters) - Trump campaign adviser ...  politicsNews   \n",
       "4      SEATTLE/WASHINGTON (Reuters) - President Donal...  politicsNews   \n",
       "...                                                  ...           ...   \n",
       "21412  BRUSSELS (Reuters) - NATO allies on Tuesday we...     worldnews   \n",
       "21413  LONDON (Reuters) - LexisNexis, a provider of l...     worldnews   \n",
       "21414  MINSK (Reuters) - In the shadow of disused Sov...     worldnews   \n",
       "21415  MOSCOW (Reuters) - Vatican Secretary of State ...     worldnews   \n",
       "21416  JAKARTA (Reuters) - Indonesia will buy 11 Sukh...     worldnews   \n",
       "\n",
       "                     date  fake/true  \n",
       "0      December 31, 2017           1  \n",
       "1      December 29, 2017           1  \n",
       "2      December 31, 2017           1  \n",
       "3      December 30, 2017           1  \n",
       "4      December 29, 2017           1  \n",
       "...                   ...        ...  \n",
       "21412    August 22, 2017           1  \n",
       "21413    August 22, 2017           1  \n",
       "21414    August 22, 2017           1  \n",
       "21415    August 22, 2017           1  \n",
       "21416    August 22, 2017           1  \n",
       "\n",
       "[21417 rows x 5 columns]"
      ]
     },
     "execution_count": 84,
     "metadata": {},
     "output_type": "execute_result"
    }
   ],
   "source": [
    "true_dataSet"
   ]
  },
  {
   "cell_type": "markdown",
   "metadata": {},
   "source": [
    "Step 4 : Here we are going to remove the 10 rows from the bottom of the table for the manual testing process"
   ]
  },
  {
   "cell_type": "code",
   "execution_count": 85,
   "metadata": {
    "id": "Oqb7pLWNnF_-"
   },
   "outputs": [],
   "source": [
    "dataSet_fake_manualTest = fake_dataSet.tail(10)\n",
    "for i in range(23480,23470,-1): #range of size\n",
    "    fake_dataSet.drop([i], axis = 0, inplace = True) #drop function to remove \n",
    "dataSet_true_manualTest = true_dataSet.tail(10)\n",
    "for i in range(21416,21406,-1): #range of size\n",
    "    true_dataSet.drop([i], axis = 0, inplace = True)  #drop function to remove "
   ]
  },
  {
   "cell_type": "code",
   "execution_count": 86,
   "metadata": {
    "id": "_FZ7zQjSnF__",
    "outputId": "a438d9e0-b46a-4535-8f2c-038132776239"
   },
   "outputs": [
    {
     "data": {
      "text/plain": [
       "((23471, 5), (21407, 5))"
      ]
     },
     "execution_count": 86,
     "metadata": {},
     "output_type": "execute_result"
    }
   ],
   "source": [
    "fake_dataSet.shape, true_dataSet.shape #display size of dataframe"
   ]
  },
  {
   "cell_type": "markdown",
   "metadata": {},
   "source": [
    "Step 5 : Combining the manaul testing data into the single dataset csv file."
   ]
  },
  {
   "cell_type": "code",
   "execution_count": 87,
   "metadata": {
    "id": "r4BKLU5AnF__",
    "outputId": "06521235-b009-4097-c77a-29ecd35c234f"
   },
   "outputs": [
    {
     "name": "stderr",
     "output_type": "stream",
     "text": [
      "<ipython-input-87-6f229a96bc78>:1: SettingWithCopyWarning: \n",
      "A value is trying to be set on a copy of a slice from a DataFrame.\n",
      "Try using .loc[row_indexer,col_indexer] = value instead\n",
      "\n",
      "See the caveats in the documentation: https://pandas.pydata.org/pandas-docs/stable/user_guide/indexing.html#returning-a-view-versus-a-copy\n",
      "  dataSet_fake_manualTest[\"fake/true\"] = 0\n",
      "<ipython-input-87-6f229a96bc78>:2: SettingWithCopyWarning: \n",
      "A value is trying to be set on a copy of a slice from a DataFrame.\n",
      "Try using .loc[row_indexer,col_indexer] = value instead\n",
      "\n",
      "See the caveats in the documentation: https://pandas.pydata.org/pandas-docs/stable/user_guide/indexing.html#returning-a-view-versus-a-copy\n",
      "  dataSet_true_manualTest[\"fake/true\"] = 1\n"
     ]
    }
   ],
   "source": [
    "dataSet_fake_manualTest[\"fake/true\"] = 0\n",
    "dataSet_true_manualTest[\"fake/true\"] = 1"
   ]
  },
  {
   "cell_type": "code",
   "execution_count": 88,
   "metadata": {
    "id": "OTKtr4rNnGAA",
    "outputId": "23bb097c-0959-413d-baa9-f31575b177e9"
   },
   "outputs": [
    {
     "data": {
      "text/html": [
       "<div>\n",
       "<style scoped>\n",
       "    .dataframe tbody tr th:only-of-type {\n",
       "        vertical-align: middle;\n",
       "    }\n",
       "\n",
       "    .dataframe tbody tr th {\n",
       "        vertical-align: top;\n",
       "    }\n",
       "\n",
       "    .dataframe thead th {\n",
       "        text-align: right;\n",
       "    }\n",
       "</style>\n",
       "<table border=\"1\" class=\"dataframe\">\n",
       "  <thead>\n",
       "    <tr style=\"text-align: right;\">\n",
       "      <th></th>\n",
       "      <th>title</th>\n",
       "      <th>text</th>\n",
       "      <th>subject</th>\n",
       "      <th>date</th>\n",
       "      <th>fake/true</th>\n",
       "    </tr>\n",
       "  </thead>\n",
       "  <tbody>\n",
       "    <tr>\n",
       "      <th>23471</th>\n",
       "      <td>Seven Iranians freed in the prisoner swap have...</td>\n",
       "      <td>21st Century Wire says This week, the historic...</td>\n",
       "      <td>Middle-east</td>\n",
       "      <td>January 20, 2016</td>\n",
       "      <td>0</td>\n",
       "    </tr>\n",
       "    <tr>\n",
       "      <th>23472</th>\n",
       "      <td>#Hashtag Hell &amp; The Fake Left</td>\n",
       "      <td>By Dady Chery and Gilbert MercierAll writers ...</td>\n",
       "      <td>Middle-east</td>\n",
       "      <td>January 19, 2016</td>\n",
       "      <td>0</td>\n",
       "    </tr>\n",
       "    <tr>\n",
       "      <th>23473</th>\n",
       "      <td>Astroturfing: Journalist Reveals Brainwashing ...</td>\n",
       "      <td>Vic Bishop Waking TimesOur reality is carefull...</td>\n",
       "      <td>Middle-east</td>\n",
       "      <td>January 19, 2016</td>\n",
       "      <td>0</td>\n",
       "    </tr>\n",
       "    <tr>\n",
       "      <th>23474</th>\n",
       "      <td>The New American Century: An Era of Fraud</td>\n",
       "      <td>Paul Craig RobertsIn the last years of the 20t...</td>\n",
       "      <td>Middle-east</td>\n",
       "      <td>January 19, 2016</td>\n",
       "      <td>0</td>\n",
       "    </tr>\n",
       "    <tr>\n",
       "      <th>23475</th>\n",
       "      <td>Hillary Clinton: ‘Israel First’ (and no peace ...</td>\n",
       "      <td>Robert Fantina CounterpunchAlthough the United...</td>\n",
       "      <td>Middle-east</td>\n",
       "      <td>January 18, 2016</td>\n",
       "      <td>0</td>\n",
       "    </tr>\n",
       "  </tbody>\n",
       "</table>\n",
       "</div>"
      ],
      "text/plain": [
       "                                                   title  \\\n",
       "23471  Seven Iranians freed in the prisoner swap have...   \n",
       "23472                      #Hashtag Hell & The Fake Left   \n",
       "23473  Astroturfing: Journalist Reveals Brainwashing ...   \n",
       "23474          The New American Century: An Era of Fraud   \n",
       "23475  Hillary Clinton: ‘Israel First’ (and no peace ...   \n",
       "\n",
       "                                                    text      subject  \\\n",
       "23471  21st Century Wire says This week, the historic...  Middle-east   \n",
       "23472   By Dady Chery and Gilbert MercierAll writers ...  Middle-east   \n",
       "23473  Vic Bishop Waking TimesOur reality is carefull...  Middle-east   \n",
       "23474  Paul Craig RobertsIn the last years of the 20t...  Middle-east   \n",
       "23475  Robert Fantina CounterpunchAlthough the United...  Middle-east   \n",
       "\n",
       "                   date  fake/true  \n",
       "23471  January 20, 2016          0  \n",
       "23472  January 19, 2016          0  \n",
       "23473  January 19, 2016          0  \n",
       "23474  January 19, 2016          0  \n",
       "23475  January 18, 2016          0  "
      ]
     },
     "execution_count": 88,
     "metadata": {},
     "output_type": "execute_result"
    }
   ],
   "source": [
    "dataSet_fake_manualTest.head() #display manual test data"
   ]
  },
  {
   "cell_type": "code",
   "execution_count": 89,
   "metadata": {
    "id": "gwG8Aqj6nGAA",
    "outputId": "035f8232-8ebc-4fb1-c5e2-06bfe8c6c0a7"
   },
   "outputs": [
    {
     "data": {
      "text/html": [
       "<div>\n",
       "<style scoped>\n",
       "    .dataframe tbody tr th:only-of-type {\n",
       "        vertical-align: middle;\n",
       "    }\n",
       "\n",
       "    .dataframe tbody tr th {\n",
       "        vertical-align: top;\n",
       "    }\n",
       "\n",
       "    .dataframe thead th {\n",
       "        text-align: right;\n",
       "    }\n",
       "</style>\n",
       "<table border=\"1\" class=\"dataframe\">\n",
       "  <thead>\n",
       "    <tr style=\"text-align: right;\">\n",
       "      <th></th>\n",
       "      <th>title</th>\n",
       "      <th>text</th>\n",
       "      <th>subject</th>\n",
       "      <th>date</th>\n",
       "      <th>fake/true</th>\n",
       "    </tr>\n",
       "  </thead>\n",
       "  <tbody>\n",
       "    <tr>\n",
       "      <th>21407</th>\n",
       "      <td>Mata Pires, owner of embattled Brazil builder ...</td>\n",
       "      <td>SAO PAULO (Reuters) - Cesar Mata Pires, the ow...</td>\n",
       "      <td>worldnews</td>\n",
       "      <td>August 22, 2017</td>\n",
       "      <td>1</td>\n",
       "    </tr>\n",
       "    <tr>\n",
       "      <th>21408</th>\n",
       "      <td>U.S., North Korea clash at U.N. forum over nuc...</td>\n",
       "      <td>GENEVA (Reuters) - North Korea and the United ...</td>\n",
       "      <td>worldnews</td>\n",
       "      <td>August 22, 2017</td>\n",
       "      <td>1</td>\n",
       "    </tr>\n",
       "    <tr>\n",
       "      <th>21409</th>\n",
       "      <td>U.S., North Korea clash at U.N. arms forum on ...</td>\n",
       "      <td>GENEVA (Reuters) - North Korea and the United ...</td>\n",
       "      <td>worldnews</td>\n",
       "      <td>August 22, 2017</td>\n",
       "      <td>1</td>\n",
       "    </tr>\n",
       "    <tr>\n",
       "      <th>21410</th>\n",
       "      <td>Headless torso could belong to submarine journ...</td>\n",
       "      <td>COPENHAGEN (Reuters) - Danish police said on T...</td>\n",
       "      <td>worldnews</td>\n",
       "      <td>August 22, 2017</td>\n",
       "      <td>1</td>\n",
       "    </tr>\n",
       "    <tr>\n",
       "      <th>21411</th>\n",
       "      <td>North Korea shipments to Syria chemical arms a...</td>\n",
       "      <td>UNITED NATIONS (Reuters) - Two North Korean sh...</td>\n",
       "      <td>worldnews</td>\n",
       "      <td>August 21, 2017</td>\n",
       "      <td>1</td>\n",
       "    </tr>\n",
       "  </tbody>\n",
       "</table>\n",
       "</div>"
      ],
      "text/plain": [
       "                                                   title  \\\n",
       "21407  Mata Pires, owner of embattled Brazil builder ...   \n",
       "21408  U.S., North Korea clash at U.N. forum over nuc...   \n",
       "21409  U.S., North Korea clash at U.N. arms forum on ...   \n",
       "21410  Headless torso could belong to submarine journ...   \n",
       "21411  North Korea shipments to Syria chemical arms a...   \n",
       "\n",
       "                                                    text    subject  \\\n",
       "21407  SAO PAULO (Reuters) - Cesar Mata Pires, the ow...  worldnews   \n",
       "21408  GENEVA (Reuters) - North Korea and the United ...  worldnews   \n",
       "21409  GENEVA (Reuters) - North Korea and the United ...  worldnews   \n",
       "21410  COPENHAGEN (Reuters) - Danish police said on T...  worldnews   \n",
       "21411  UNITED NATIONS (Reuters) - Two North Korean sh...  worldnews   \n",
       "\n",
       "                   date  fake/true  \n",
       "21407  August 22, 2017           1  \n",
       "21408  August 22, 2017           1  \n",
       "21409  August 22, 2017           1  \n",
       "21410  August 22, 2017           1  \n",
       "21411  August 21, 2017           1  "
      ]
     },
     "execution_count": 89,
     "metadata": {},
     "output_type": "execute_result"
    }
   ],
   "source": [
    "dataSet_true_manualTest.head()  #display manual test data"
   ]
  },
  {
   "cell_type": "code",
   "execution_count": 90,
   "metadata": {
    "id": "pr8MJ41knGAA"
   },
   "outputs": [],
   "source": [
    "dataSet_manualTest = pd.concat([dataSet_fake_manualTest,dataSet_true_manualTest], axis = 0)\n",
    "dataSet_manualTest.to_csv(\"manualTest.csv\")"
   ]
  },
  {
   "cell_type": "markdown",
   "metadata": {
    "id": "A-9RSSqjnGAB"
   },
   "source": [
    "Merging the main fake and true dataframe"
   ]
  },
  {
   "cell_type": "markdown",
   "metadata": {},
   "source": [
    "Step 6 : Here we are going to combine the main true and fake news dataset "
   ]
  },
  {
   "cell_type": "code",
   "execution_count": 91,
   "metadata": {
    "id": "my1LyGagnGAB",
    "outputId": "f58bf007-a74b-4baf-c06e-f8681268e5fe"
   },
   "outputs": [
    {
     "data": {
      "text/html": [
       "<div>\n",
       "<style scoped>\n",
       "    .dataframe tbody tr th:only-of-type {\n",
       "        vertical-align: middle;\n",
       "    }\n",
       "\n",
       "    .dataframe tbody tr th {\n",
       "        vertical-align: top;\n",
       "    }\n",
       "\n",
       "    .dataframe thead th {\n",
       "        text-align: right;\n",
       "    }\n",
       "</style>\n",
       "<table border=\"1\" class=\"dataframe\">\n",
       "  <thead>\n",
       "    <tr style=\"text-align: right;\">\n",
       "      <th></th>\n",
       "      <th>title</th>\n",
       "      <th>text</th>\n",
       "      <th>subject</th>\n",
       "      <th>date</th>\n",
       "      <th>fake/true</th>\n",
       "    </tr>\n",
       "  </thead>\n",
       "  <tbody>\n",
       "    <tr>\n",
       "      <th>0</th>\n",
       "      <td>Donald Trump Sends Out Embarrassing New Year’...</td>\n",
       "      <td>Donald Trump just couldn t wish all Americans ...</td>\n",
       "      <td>News</td>\n",
       "      <td>December 31, 2017</td>\n",
       "      <td>0</td>\n",
       "    </tr>\n",
       "    <tr>\n",
       "      <th>1</th>\n",
       "      <td>Drunk Bragging Trump Staffer Started Russian ...</td>\n",
       "      <td>House Intelligence Committee Chairman Devin Nu...</td>\n",
       "      <td>News</td>\n",
       "      <td>December 31, 2017</td>\n",
       "      <td>0</td>\n",
       "    </tr>\n",
       "    <tr>\n",
       "      <th>2</th>\n",
       "      <td>Sheriff David Clarke Becomes An Internet Joke...</td>\n",
       "      <td>On Friday, it was revealed that former Milwauk...</td>\n",
       "      <td>News</td>\n",
       "      <td>December 30, 2017</td>\n",
       "      <td>0</td>\n",
       "    </tr>\n",
       "    <tr>\n",
       "      <th>3</th>\n",
       "      <td>Trump Is So Obsessed He Even Has Obama’s Name...</td>\n",
       "      <td>On Christmas day, Donald Trump announced that ...</td>\n",
       "      <td>News</td>\n",
       "      <td>December 29, 2017</td>\n",
       "      <td>0</td>\n",
       "    </tr>\n",
       "    <tr>\n",
       "      <th>4</th>\n",
       "      <td>Pope Francis Just Called Out Donald Trump Dur...</td>\n",
       "      <td>Pope Francis used his annual Christmas Day mes...</td>\n",
       "      <td>News</td>\n",
       "      <td>December 25, 2017</td>\n",
       "      <td>0</td>\n",
       "    </tr>\n",
       "    <tr>\n",
       "      <th>...</th>\n",
       "      <td>...</td>\n",
       "      <td>...</td>\n",
       "      <td>...</td>\n",
       "      <td>...</td>\n",
       "      <td>...</td>\n",
       "    </tr>\n",
       "    <tr>\n",
       "      <th>21402</th>\n",
       "      <td>Exclusive: Trump's Afghan decision may increas...</td>\n",
       "      <td>ON BOARD A U.S. MILITARY AIRCRAFT (Reuters) - ...</td>\n",
       "      <td>worldnews</td>\n",
       "      <td>August 22, 2017</td>\n",
       "      <td>1</td>\n",
       "    </tr>\n",
       "    <tr>\n",
       "      <th>21403</th>\n",
       "      <td>U.S. puts more pressure on Pakistan to help wi...</td>\n",
       "      <td>WASHINGTON (Reuters) - The United States sugge...</td>\n",
       "      <td>worldnews</td>\n",
       "      <td>August 21, 2017</td>\n",
       "      <td>1</td>\n",
       "    </tr>\n",
       "    <tr>\n",
       "      <th>21404</th>\n",
       "      <td>Exclusive: U.S. to withhold up to $290 million...</td>\n",
       "      <td>WASHINGTON (Reuters) - The United States has d...</td>\n",
       "      <td>worldnews</td>\n",
       "      <td>August 22, 2017</td>\n",
       "      <td>1</td>\n",
       "    </tr>\n",
       "    <tr>\n",
       "      <th>21405</th>\n",
       "      <td>Trump talks tough on Pakistan's 'terrorist' ha...</td>\n",
       "      <td>ISLAMABAD (Reuters) - Outlining a new strategy...</td>\n",
       "      <td>worldnews</td>\n",
       "      <td>August 22, 2017</td>\n",
       "      <td>1</td>\n",
       "    </tr>\n",
       "    <tr>\n",
       "      <th>21406</th>\n",
       "      <td>U.S., North Korea clash at U.N. forum over nuc...</td>\n",
       "      <td>GENEVA (Reuters) - North Korea and the United ...</td>\n",
       "      <td>worldnews</td>\n",
       "      <td>August 22, 2017</td>\n",
       "      <td>1</td>\n",
       "    </tr>\n",
       "  </tbody>\n",
       "</table>\n",
       "<p>44878 rows × 5 columns</p>\n",
       "</div>"
      ],
      "text/plain": [
       "                                                   title  \\\n",
       "0       Donald Trump Sends Out Embarrassing New Year’...   \n",
       "1       Drunk Bragging Trump Staffer Started Russian ...   \n",
       "2       Sheriff David Clarke Becomes An Internet Joke...   \n",
       "3       Trump Is So Obsessed He Even Has Obama’s Name...   \n",
       "4       Pope Francis Just Called Out Donald Trump Dur...   \n",
       "...                                                  ...   \n",
       "21402  Exclusive: Trump's Afghan decision may increas...   \n",
       "21403  U.S. puts more pressure on Pakistan to help wi...   \n",
       "21404  Exclusive: U.S. to withhold up to $290 million...   \n",
       "21405  Trump talks tough on Pakistan's 'terrorist' ha...   \n",
       "21406  U.S., North Korea clash at U.N. forum over nuc...   \n",
       "\n",
       "                                                    text    subject  \\\n",
       "0      Donald Trump just couldn t wish all Americans ...       News   \n",
       "1      House Intelligence Committee Chairman Devin Nu...       News   \n",
       "2      On Friday, it was revealed that former Milwauk...       News   \n",
       "3      On Christmas day, Donald Trump announced that ...       News   \n",
       "4      Pope Francis used his annual Christmas Day mes...       News   \n",
       "...                                                  ...        ...   \n",
       "21402  ON BOARD A U.S. MILITARY AIRCRAFT (Reuters) - ...  worldnews   \n",
       "21403  WASHINGTON (Reuters) - The United States sugge...  worldnews   \n",
       "21404  WASHINGTON (Reuters) - The United States has d...  worldnews   \n",
       "21405  ISLAMABAD (Reuters) - Outlining a new strategy...  worldnews   \n",
       "21406  GENEVA (Reuters) - North Korea and the United ...  worldnews   \n",
       "\n",
       "                    date  fake/true  \n",
       "0      December 31, 2017          0  \n",
       "1      December 31, 2017          0  \n",
       "2      December 30, 2017          0  \n",
       "3      December 29, 2017          0  \n",
       "4      December 25, 2017          0  \n",
       "...                  ...        ...  \n",
       "21402   August 22, 2017           1  \n",
       "21403   August 21, 2017           1  \n",
       "21404   August 22, 2017           1  \n",
       "21405   August 22, 2017           1  \n",
       "21406   August 22, 2017           1  \n",
       "\n",
       "[44878 rows x 5 columns]"
      ]
     },
     "execution_count": 91,
     "metadata": {},
     "output_type": "execute_result"
    }
   ],
   "source": [
    "dataSet_combine = pd.concat([fake_dataSet, true_dataSet], axis =0 )\n",
    "dataSet_combine"
   ]
  },
  {
   "cell_type": "markdown",
   "metadata": {},
   "source": [
    "Step 7: As we are heading to train the models , we are going to remove the less important columns such as title , subject , date etc.This is for more better understanding the dataset."
   ]
  },
  {
   "cell_type": "code",
   "execution_count": 92,
   "metadata": {
    "id": "M8YKG0gRnGAC"
   },
   "outputs": [
    {
     "data": {
      "text/plain": [
       "text         0\n",
       "fake/true    0\n",
       "dtype: int64"
      ]
     },
     "execution_count": 92,
     "metadata": {},
     "output_type": "execute_result"
    }
   ],
   "source": [
    "dataSet = dataSet_combine.drop([\"title\", \"subject\",\"date\"], axis = 1)\n",
    "dataSet.isnull().sum()"
   ]
  },
  {
   "cell_type": "markdown",
   "metadata": {},
   "source": [
    "Step 8: Here we are attempting to shuffle the dataset"
   ]
  },
  {
   "cell_type": "code",
   "execution_count": 93,
   "metadata": {
    "id": "IABmfWRWnGAC"
   },
   "outputs": [
    {
     "data": {
      "text/html": [
       "<div>\n",
       "<style scoped>\n",
       "    .dataframe tbody tr th:only-of-type {\n",
       "        vertical-align: middle;\n",
       "    }\n",
       "\n",
       "    .dataframe tbody tr th {\n",
       "        vertical-align: top;\n",
       "    }\n",
       "\n",
       "    .dataframe thead th {\n",
       "        text-align: right;\n",
       "    }\n",
       "</style>\n",
       "<table border=\"1\" class=\"dataframe\">\n",
       "  <thead>\n",
       "    <tr style=\"text-align: right;\">\n",
       "      <th></th>\n",
       "      <th>text</th>\n",
       "      <th>fake/true</th>\n",
       "    </tr>\n",
       "  </thead>\n",
       "  <tbody>\n",
       "    <tr>\n",
       "      <th>21831</th>\n",
       "      <td>These are people who claim to love diversity,...</td>\n",
       "      <td>0</td>\n",
       "    </tr>\n",
       "    <tr>\n",
       "      <th>5852</th>\n",
       "      <td>The GOP is notoriously hostile to the LGBTQ co...</td>\n",
       "      <td>0</td>\n",
       "    </tr>\n",
       "    <tr>\n",
       "      <th>19131</th>\n",
       "      <td>THIS IS OUTRAGEOUS! YOU WON T BELIEVE THIS!</td>\n",
       "      <td>0</td>\n",
       "    </tr>\n",
       "    <tr>\n",
       "      <th>6797</th>\n",
       "      <td>Right-ing paranoid whackjob Pat Boone has decl...</td>\n",
       "      <td>0</td>\n",
       "    </tr>\n",
       "    <tr>\n",
       "      <th>450</th>\n",
       "      <td>A Michigan woman decided to defend against tyr...</td>\n",
       "      <td>0</td>\n",
       "    </tr>\n",
       "    <tr>\n",
       "      <th>...</th>\n",
       "      <td>...</td>\n",
       "      <td>...</td>\n",
       "    </tr>\n",
       "    <tr>\n",
       "      <th>6597</th>\n",
       "      <td>Only April 28, nearly 100 lawmakers sent a let...</td>\n",
       "      <td>0</td>\n",
       "    </tr>\n",
       "    <tr>\n",
       "      <th>16054</th>\n",
       "      <td>PRESIDENT TRUMP ON OVERREGULATION:  They spent...</td>\n",
       "      <td>0</td>\n",
       "    </tr>\n",
       "    <tr>\n",
       "      <th>9427</th>\n",
       "      <td>HANOI (Reuters) - U.S. President Barack Obama ...</td>\n",
       "      <td>1</td>\n",
       "    </tr>\n",
       "    <tr>\n",
       "      <th>10892</th>\n",
       "      <td>Anderson Cooper decided it would be a good ide...</td>\n",
       "      <td>0</td>\n",
       "    </tr>\n",
       "    <tr>\n",
       "      <th>20418</th>\n",
       "      <td>BAKU (Reuters) - An Azeri court on Monday rele...</td>\n",
       "      <td>1</td>\n",
       "    </tr>\n",
       "  </tbody>\n",
       "</table>\n",
       "<p>44878 rows × 2 columns</p>\n",
       "</div>"
      ],
      "text/plain": [
       "                                                    text  fake/true\n",
       "21831   These are people who claim to love diversity,...          0\n",
       "5852   The GOP is notoriously hostile to the LGBTQ co...          0\n",
       "19131        THIS IS OUTRAGEOUS! YOU WON T BELIEVE THIS!          0\n",
       "6797   Right-ing paranoid whackjob Pat Boone has decl...          0\n",
       "450    A Michigan woman decided to defend against tyr...          0\n",
       "...                                                  ...        ...\n",
       "6597   Only April 28, nearly 100 lawmakers sent a let...          0\n",
       "16054  PRESIDENT TRUMP ON OVERREGULATION:  They spent...          0\n",
       "9427   HANOI (Reuters) - U.S. President Barack Obama ...          1\n",
       "10892  Anderson Cooper decided it would be a good ide...          0\n",
       "20418  BAKU (Reuters) - An Azeri court on Monday rele...          1\n",
       "\n",
       "[44878 rows x 2 columns]"
      ]
     },
     "execution_count": 93,
     "metadata": {},
     "output_type": "execute_result"
    }
   ],
   "source": [
    "dataSet = dataSet.sample(frac = 1)\n",
    "dataSet"
   ]
  },
  {
   "cell_type": "code",
   "execution_count": 94,
   "metadata": {},
   "outputs": [
    {
     "data": {
      "text/plain": [
       "Index(['text', 'fake/true'], dtype='object')"
      ]
     },
     "execution_count": 94,
     "metadata": {},
     "output_type": "execute_result"
    }
   ],
   "source": [
    "dataSet.reset_index(inplace = True)\n",
    "dataSet.drop([\"index\"], axis = 1, inplace = True)\n",
    "dataSet.columns"
   ]
  },
  {
   "cell_type": "code",
   "execution_count": 95,
   "metadata": {},
   "outputs": [
    {
     "data": {
      "text/html": [
       "<div>\n",
       "<style scoped>\n",
       "    .dataframe tbody tr th:only-of-type {\n",
       "        vertical-align: middle;\n",
       "    }\n",
       "\n",
       "    .dataframe tbody tr th {\n",
       "        vertical-align: top;\n",
       "    }\n",
       "\n",
       "    .dataframe thead th {\n",
       "        text-align: right;\n",
       "    }\n",
       "</style>\n",
       "<table border=\"1\" class=\"dataframe\">\n",
       "  <thead>\n",
       "    <tr style=\"text-align: right;\">\n",
       "      <th></th>\n",
       "      <th>text</th>\n",
       "      <th>fake/true</th>\n",
       "    </tr>\n",
       "  </thead>\n",
       "  <tbody>\n",
       "    <tr>\n",
       "      <th>0</th>\n",
       "      <td>These are people who claim to love diversity,...</td>\n",
       "      <td>0</td>\n",
       "    </tr>\n",
       "    <tr>\n",
       "      <th>1</th>\n",
       "      <td>The GOP is notoriously hostile to the LGBTQ co...</td>\n",
       "      <td>0</td>\n",
       "    </tr>\n",
       "    <tr>\n",
       "      <th>2</th>\n",
       "      <td>THIS IS OUTRAGEOUS! YOU WON T BELIEVE THIS!</td>\n",
       "      <td>0</td>\n",
       "    </tr>\n",
       "    <tr>\n",
       "      <th>3</th>\n",
       "      <td>Right-ing paranoid whackjob Pat Boone has decl...</td>\n",
       "      <td>0</td>\n",
       "    </tr>\n",
       "    <tr>\n",
       "      <th>4</th>\n",
       "      <td>A Michigan woman decided to defend against tyr...</td>\n",
       "      <td>0</td>\n",
       "    </tr>\n",
       "    <tr>\n",
       "      <th>...</th>\n",
       "      <td>...</td>\n",
       "      <td>...</td>\n",
       "    </tr>\n",
       "    <tr>\n",
       "      <th>44873</th>\n",
       "      <td>Only April 28, nearly 100 lawmakers sent a let...</td>\n",
       "      <td>0</td>\n",
       "    </tr>\n",
       "    <tr>\n",
       "      <th>44874</th>\n",
       "      <td>PRESIDENT TRUMP ON OVERREGULATION:  They spent...</td>\n",
       "      <td>0</td>\n",
       "    </tr>\n",
       "    <tr>\n",
       "      <th>44875</th>\n",
       "      <td>HANOI (Reuters) - U.S. President Barack Obama ...</td>\n",
       "      <td>1</td>\n",
       "    </tr>\n",
       "    <tr>\n",
       "      <th>44876</th>\n",
       "      <td>Anderson Cooper decided it would be a good ide...</td>\n",
       "      <td>0</td>\n",
       "    </tr>\n",
       "    <tr>\n",
       "      <th>44877</th>\n",
       "      <td>BAKU (Reuters) - An Azeri court on Monday rele...</td>\n",
       "      <td>1</td>\n",
       "    </tr>\n",
       "  </tbody>\n",
       "</table>\n",
       "<p>44878 rows × 2 columns</p>\n",
       "</div>"
      ],
      "text/plain": [
       "                                                    text  fake/true\n",
       "0       These are people who claim to love diversity,...          0\n",
       "1      The GOP is notoriously hostile to the LGBTQ co...          0\n",
       "2            THIS IS OUTRAGEOUS! YOU WON T BELIEVE THIS!          0\n",
       "3      Right-ing paranoid whackjob Pat Boone has decl...          0\n",
       "4      A Michigan woman decided to defend against tyr...          0\n",
       "...                                                  ...        ...\n",
       "44873  Only April 28, nearly 100 lawmakers sent a let...          0\n",
       "44874  PRESIDENT TRUMP ON OVERREGULATION:  They spent...          0\n",
       "44875  HANOI (Reuters) - U.S. President Barack Obama ...          1\n",
       "44876  Anderson Cooper decided it would be a good ide...          0\n",
       "44877  BAKU (Reuters) - An Azeri court on Monday rele...          1\n",
       "\n",
       "[44878 rows x 2 columns]"
      ]
     },
     "execution_count": 95,
     "metadata": {},
     "output_type": "execute_result"
    }
   ],
   "source": [
    "dataSet"
   ]
  },
  {
   "cell_type": "markdown",
   "metadata": {},
   "source": [
    "Step 9: Now, we define a funtion which can remove the unwanted spaces, convert the given texts from uppercase to lowercase, remove the special characters, links and urls."
   ]
  },
  {
   "cell_type": "code",
   "execution_count": 96,
   "metadata": {
    "id": "xTD2eO6VnGAD"
   },
   "outputs": [],
   "source": [
    "def word_del(text):\n",
    "    text = text.lower()\n",
    "    text = re.sub('<.*?>+', '', text)\n",
    "    text = re.sub('\\w*\\d\\w*', '', text)\n",
    "    text = re.sub('\\n', '', text)\n",
    "    text = re.sub('\\[.*?\\]', '', text) \n",
    "    text = re.sub('https?://\\S+|www.\\.\\S+', '', text)\n",
    "    text = re.sub('[%s]' % re.escape(string.punctuation), '', text)\n",
    "    text = re.sub(\"\\\\W\", \" \", text)\n",
    "    return text"
   ]
  },
  {
   "cell_type": "code",
   "execution_count": 97,
   "metadata": {
    "id": "jPCviX8-nGAD"
   },
   "outputs": [],
   "source": [
    "dataSet[\"text\"] = dataSet[\"text\"].apply(word_del)"
   ]
  },
  {
   "cell_type": "markdown",
   "metadata": {},
   "source": [
    "Step 10 : We now define the required independent and dependent variables as X and Y for the training and testing set"
   ]
  },
  {
   "cell_type": "code",
   "execution_count": 60,
   "metadata": {
    "id": "MqAdzV30nGAE"
   },
   "outputs": [],
   "source": [
    "X = dataSet[\"text\"]\n",
    "Y = dataSet[\"fake/true\"]"
   ]
  },
  {
   "cell_type": "markdown",
   "metadata": {},
   "source": [
    "Step 11 : We are performing the splitting of dataset and form the training dataset and the testing dataset"
   ]
  },
  {
   "cell_type": "code",
   "execution_count": 61,
   "metadata": {
    "id": "G6To1ueGnGAE"
   },
   "outputs": [],
   "source": [
    "x_train_data, x_test_data, y_train_data, y_test_data = train_test_split(X, Y, test_size=0.25)"
   ]
  },
  {
   "cell_type": "markdown",
   "metadata": {},
   "source": [
    "Step 12 : We are here converting the text data to vectors"
   ]
  },
  {
   "cell_type": "code",
   "execution_count": 62,
   "metadata": {
    "id": "d3-gcDgInGAE"
   },
   "outputs": [],
   "source": [
    "from sklearn.feature_extraction.text import TfidfVectorizer\n",
    "\n",
    "vector = TfidfVectorizer()\n",
    "x_vector_train_data = vector.fit_transform(x_train_data)\n",
    "x_vector_test_data = vector.transform(x_test_data)"
   ]
  },
  {
   "cell_type": "markdown",
   "metadata": {},
   "source": [
    "# Machine Learning Algorithms"
   ]
  },
  {
   "cell_type": "markdown",
   "metadata": {},
   "source": [
    "Step 13 : Here we are training the models with the machine learning algorithms and presdicting the accuracy score"
   ]
  },
  {
   "cell_type": "markdown",
   "metadata": {},
   "source": [
    "# ML1_Algorithm:- Logisitic Regression"
   ]
  },
  {
   "cell_type": "code",
   "execution_count": 77,
   "metadata": {
    "id": "g_EzLCuMnGAF"
   },
   "outputs": [],
   "source": [
    "from sklearn.linear_model import LogisticRegression"
   ]
  },
  {
   "cell_type": "code",
   "execution_count": 64,
   "metadata": {
    "colab": {
     "base_uri": "https://localhost:8080/",
     "height": 184
    },
    "id": "YgD48IAYnGAF",
    "outputId": "b12e24f3-4fe0-44da-8fad-35d8da070387"
   },
   "outputs": [
    {
     "data": {
      "text/plain": [
       "LogisticRegression()"
      ]
     },
     "execution_count": 64,
     "metadata": {},
     "output_type": "execute_result"
    }
   ],
   "source": [
    "logistic_Reg = LogisticRegression()\n",
    "logistic_Reg.fit(x_vector_train_data,y_train_data)"
   ]
  },
  {
   "cell_type": "code",
   "execution_count": 67,
   "metadata": {
    "id": "5jR97L12nGAF"
   },
   "outputs": [
    {
     "data": {
      "text/plain": [
       "0.985204991087344"
      ]
     },
     "execution_count": 67,
     "metadata": {},
     "output_type": "execute_result"
    }
   ],
   "source": [
    "# Predicting the Binary Label:\n",
    "y_predict_logistic_Reg = logistic_Reg.predict(x_vector_test_data)\n",
    "\n",
    "#Accuracy score\n",
    "logistic_Reg.score(x_vector_test_data, y_test_data)"
   ]
  },
  {
   "cell_type": "code",
   "execution_count": 68,
   "metadata": {},
   "outputs": [
    {
     "name": "stdout",
     "output_type": "stream",
     "text": [
      "              precision    recall  f1-score   support\n",
      "\n",
      "           0       0.99      0.98      0.99      5903\n",
      "           1       0.98      0.99      0.98      5317\n",
      "\n",
      "    accuracy                           0.99     11220\n",
      "   macro avg       0.99      0.99      0.99     11220\n",
      "weighted avg       0.99      0.99      0.99     11220\n",
      "\n"
     ]
    }
   ],
   "source": [
    "print(classification_report(y_test_data, y_predict_logistic_Reg))"
   ]
  },
  {
   "cell_type": "code",
   "execution_count": 69,
   "metadata": {
    "id": "i8IJ-g1HnGAG"
   },
   "outputs": [],
   "source": [
    "# Estimating the probability (likelihood) of Each Label: \n",
    "y_predict_prob_logistic_Reg = logistic_Reg.predict_proba(x_vector_test_data)"
   ]
  },
  {
   "cell_type": "code",
   "execution_count": 70,
   "metadata": {
    "id": "RLUd9flknGAG"
   },
   "outputs": [
    {
     "name": "stdout",
     "output_type": "stream",
     "text": [
      "6070     1\n",
      "33541    0\n",
      "33575    1\n",
      "9627     1\n",
      "41265    1\n",
      "        ..\n",
      "41142    1\n",
      "2275     0\n",
      "44033    1\n",
      "34922    1\n",
      "20014    1\n",
      "Name: fake/true, Length: 11220, dtype: int64\n",
      "[1 0 1 ... 1 1 1]\n",
      "[[0.44088918 0.55911082]\n",
      " [0.99482373 0.00517627]\n",
      " [0.24946054 0.75053946]\n",
      " ...\n",
      " [0.00270155 0.99729845]\n",
      " [0.22924653 0.77075347]\n",
      " [0.04321372 0.95678628]]\n",
      "[0.55911082 0.00517627 0.75053946 ... 0.99729845 0.77075347 0.95678628]\n"
     ]
    }
   ],
   "source": [
    "# This line prints the \"actual label\" of the testing set:\n",
    "print(y_test_data)\n",
    "\n",
    "# This line prints the \"predicted label\" for the testing set:\n",
    "print(y_predict_logistic_Reg)\n",
    "\n",
    "# This line prints the \"estimated likelihood of both label\" for the testing set:\n",
    "print(y_predict_prob_logistic_Reg)\n",
    "\n",
    "# This line prints the \"estimated likelihood of label=1\" for the testing set:\n",
    "print(y_predict_prob_logistic_Reg[f"
   ]
  },
  {
   "cell_type": "code",
   "execution_count": 71,
   "metadata": {
    "id": "qqUAkmM1nGAG"
   },
   "outputs": [
    {
     "name": "stdout",
     "output_type": "stream",
     "text": [
      "[0.00000000e+00 0.00000000e+00 0.00000000e+00 0.00000000e+00\n",
      " 0.00000000e+00 0.00000000e+00 0.00000000e+00 0.00000000e+00\n",
      " 0.00000000e+00 0.00000000e+00 0.00000000e+00 0.00000000e+00\n",
      " 0.00000000e+00 0.00000000e+00 0.00000000e+00 0.00000000e+00\n",
      " 0.00000000e+00 0.00000000e+00 0.00000000e+00 0.00000000e+00\n",
      " 0.00000000e+00 0.00000000e+00 0.00000000e+00 0.00000000e+00\n",
      " 0.00000000e+00 0.00000000e+00 0.00000000e+00 0.00000000e+00\n",
      " 0.00000000e+00 1.69405387e-04 1.69405387e-04 3.38810774e-04\n",
      " 3.38810774e-04 5.08216161e-04 5.08216161e-04 6.77621548e-04\n",
      " 6.77621548e-04 6.77621548e-04 6.77621548e-04 8.47026935e-04\n",
      " 8.47026935e-04 8.47026935e-04 8.47026935e-04 1.18583771e-03\n",
      " 1.18583771e-03 1.35524310e-03 1.35524310e-03 1.52464848e-03\n",
      " 1.52464848e-03 1.69405387e-03 1.69405387e-03 1.86345926e-03\n",
      " 1.86345926e-03 2.03286465e-03 2.03286465e-03 2.20227003e-03\n",
      " 2.20227003e-03 2.37167542e-03 2.37167542e-03 2.54108081e-03\n",
      " 2.54108081e-03 2.71048619e-03 2.71048619e-03 3.04929697e-03\n",
      " 3.04929697e-03 3.21870235e-03 3.21870235e-03 3.38810774e-03\n",
      " 3.38810774e-03 3.55751313e-03 3.55751313e-03 3.72691852e-03\n",
      " 3.72691852e-03 3.89632390e-03 3.89632390e-03 4.06572929e-03\n",
      " 4.06572929e-03 4.23513468e-03 4.23513468e-03 4.57394545e-03\n",
      " 4.57394545e-03 4.91275623e-03 4.91275623e-03 5.08216161e-03\n",
      " 5.08216161e-03 5.25156700e-03 5.25156700e-03 5.25156700e-03\n",
      " 5.25156700e-03 5.42097239e-03 5.42097239e-03 5.59037777e-03\n",
      " 5.59037777e-03 5.75978316e-03 5.75978316e-03 6.09859394e-03\n",
      " 6.09859394e-03 6.26799932e-03 6.26799932e-03 6.43740471e-03\n",
      " 6.43740471e-03 6.60681010e-03 6.60681010e-03 6.94562087e-03\n",
      " 7.11502626e-03 7.11502626e-03 7.28443164e-03 7.28443164e-03\n",
      " 7.45383703e-03 7.45383703e-03 7.62324242e-03 7.62324242e-03\n",
      " 7.96205319e-03 7.96205319e-03 8.13145858e-03 8.13145858e-03\n",
      " 8.30086397e-03 8.30086397e-03 8.63967474e-03 8.63967474e-03\n",
      " 8.97848552e-03 8.97848552e-03 9.14789090e-03 9.14789090e-03\n",
      " 9.48670168e-03 9.48670168e-03 9.99491784e-03 9.99491784e-03\n",
      " 1.01643232e-02 1.01643232e-02 1.05031340e-02 1.05031340e-02\n",
      " 1.06725394e-02 1.06725394e-02 1.08419448e-02 1.08419448e-02\n",
      " 1.10113502e-02 1.10113502e-02 1.13501609e-02 1.13501609e-02\n",
      " 1.15195663e-02 1.15195663e-02 1.16889717e-02 1.16889717e-02\n",
      " 1.18583771e-02 1.18583771e-02 1.20277825e-02 1.20277825e-02\n",
      " 1.21971879e-02 1.21971879e-02 1.23665933e-02 1.23665933e-02\n",
      " 1.27054040e-02 1.27054040e-02 1.32136202e-02 1.32136202e-02\n",
      " 1.33830256e-02 1.33830256e-02 1.40606471e-02 1.40606471e-02\n",
      " 1.43994579e-02 1.54158902e-02 1.54158902e-02 1.57547010e-02\n",
      " 1.60935118e-02 1.64323225e-02 1.64323225e-02 1.67711333e-02\n",
      " 1.71099441e-02 1.71099441e-02 1.72793495e-02 1.72793495e-02\n",
      " 1.81263764e-02 1.84651872e-02 1.84651872e-02 1.86345926e-02\n",
      " 1.86345926e-02 1.89734034e-02 1.89734034e-02 1.94816195e-02\n",
      " 1.94816195e-02 1.98204303e-02 1.98204303e-02 2.01592411e-02\n",
      " 2.01592411e-02 2.04980518e-02 2.04980518e-02 2.08368626e-02\n",
      " 2.11756734e-02 2.13450788e-02 2.13450788e-02 2.23615111e-02\n",
      " 2.27003219e-02 2.27003219e-02 2.33779434e-02 2.37167542e-02\n",
      " 2.40555650e-02 2.40555650e-02 2.47331865e-02 2.47331865e-02\n",
      " 2.49025919e-02 2.49025919e-02 2.54108081e-02 2.54108081e-02\n",
      " 2.59190242e-02 2.59190242e-02 2.72742673e-02 2.76130781e-02\n",
      " 2.77824835e-02 2.77824835e-02 2.82906996e-02 2.86295104e-02\n",
      " 3.04929697e-02 3.04929697e-02 3.11705912e-02 3.11705912e-02\n",
      " 3.13399966e-02 3.13399966e-02 3.15094020e-02 3.15094020e-02\n",
      " 3.21870235e-02 3.23564289e-02 3.23564289e-02 3.28646451e-02\n",
      " 3.35422666e-02 3.35422666e-02 3.59139421e-02 3.59139421e-02\n",
      " 3.62527528e-02 3.62527528e-02 3.65915636e-02 3.65915636e-02\n",
      " 3.96408606e-02 3.99796714e-02 4.01490767e-02 4.04878875e-02\n",
      " 4.11655091e-02 4.11655091e-02 4.15043198e-02 4.23513468e-02\n",
      " 4.26901575e-02 4.55700491e-02 4.59088599e-02 4.91275623e-02\n",
      " 4.94663730e-02 4.98051838e-02 4.98051838e-02 4.99745892e-02\n",
      " 5.03134000e-02 5.09910215e-02 5.09910215e-02 5.25156700e-02\n",
      " 5.25156700e-02 5.30238862e-02 5.33626969e-02 5.65813993e-02\n",
      " 5.65813993e-02 5.77672370e-02 5.81060478e-02 5.86142639e-02\n",
      " 5.89530747e-02 5.92918855e-02 5.96306963e-02 6.03083178e-02\n",
      " 6.03083178e-02 6.04777232e-02 6.04777232e-02 6.11553447e-02\n",
      " 6.11553447e-02 6.16635609e-02 6.20023717e-02 6.40352363e-02\n",
      " 6.40352363e-02 6.58986956e-02 6.62375064e-02 6.69151279e-02\n",
      " 6.69151279e-02 6.77621548e-02 6.81009656e-02 6.89479925e-02\n",
      " 6.92868033e-02 7.06420464e-02 7.06420464e-02 7.30137218e-02\n",
      " 7.33525326e-02 7.52159919e-02 7.52159919e-02 7.57242080e-02\n",
      " 7.60630188e-02 7.72488565e-02 7.75876673e-02 7.91123158e-02\n",
      " 7.91123158e-02 8.19922074e-02 8.23310181e-02 8.55497205e-02\n",
      " 8.58885313e-02 8.79213959e-02 8.82602067e-02 8.87684228e-02\n",
      " 8.91072336e-02 8.92766390e-02 8.96154498e-02 9.01236659e-02\n",
      " 9.01236659e-02 9.08012875e-02 9.08012875e-02 9.13095036e-02\n",
      " 9.16483144e-02 9.36811791e-02 9.40199898e-02 9.46976114e-02\n",
      " 9.50364222e-02 9.58834491e-02 9.62222599e-02 9.75775030e-02\n",
      " 9.79163137e-02 1.00287989e-01 1.00965611e-01 1.01135016e-01\n",
      " 1.01473827e-01 1.01812638e-01 1.01812638e-01 1.02829070e-01\n",
      " 1.02829070e-01 1.04353718e-01 1.04692529e-01 1.06725394e-01\n",
      " 1.07064205e-01 1.08588853e-01 1.08927664e-01 1.09435880e-01\n",
      " 1.09774691e-01 1.13332204e-01 1.13671015e-01 1.13840420e-01\n",
      " 1.14179231e-01 1.14348636e-01 1.14687447e-01 1.15195663e-01\n",
      " 1.15195663e-01 1.15365069e-01 1.15365069e-01 1.16042690e-01\n",
      " 1.16381501e-01 1.20447230e-01 1.20786041e-01 1.20955446e-01\n",
      " 1.21294257e-01 1.21971879e-01 1.22310689e-01 1.22480095e-01\n",
      " 1.22480095e-01 1.22818906e-01 1.23157716e-01 1.25529392e-01\n",
      " 1.25868203e-01 1.26545824e-01 1.26884635e-01 1.28917500e-01\n",
      " 1.29256310e-01 1.31289175e-01 1.31627986e-01 1.32475013e-01\n",
      " 1.32813823e-01 1.34169067e-01 1.34846688e-01 1.36201931e-01\n",
      " 1.36540742e-01 1.36879553e-01 1.36879553e-01 1.38912417e-01\n",
      " 1.39251228e-01 1.41961714e-01 1.42300525e-01 1.42469931e-01\n",
      " 1.42808741e-01 1.46705065e-01 1.47043876e-01 1.47382687e-01\n",
      " 1.47721498e-01 1.48907335e-01 1.49246146e-01 1.51109605e-01\n",
      " 1.51448416e-01 1.53650686e-01 1.54158902e-01 1.55514145e-01\n",
      " 1.55852956e-01 1.60765712e-01 1.61104523e-01 1.65170252e-01\n",
      " 1.65847874e-01 1.66525496e-01 1.66864306e-01 1.67880739e-01\n",
      " 1.68558360e-01 1.69574792e-01 1.69913603e-01 1.70930036e-01\n",
      " 1.71268846e-01 1.75334576e-01 2.08199221e-01 2.08876842e-01\n",
      " 2.09215653e-01 2.11926139e-01 2.11926139e-01 2.12773166e-01\n",
      " 2.13111977e-01 2.16161274e-01 2.16500085e-01 2.16669490e-01\n",
      " 2.17177706e-01 2.17685922e-01 2.18024733e-01 2.22598679e-01\n",
      " 2.23276300e-01 2.26156192e-01 2.26495003e-01 2.27680840e-01\n",
      " 2.28358462e-01 2.31407759e-01 2.31746570e-01 2.31915975e-01\n",
      " 2.32424191e-01 2.32932407e-01 2.33271218e-01 2.34965272e-01\n",
      " 2.35304083e-01 2.36998137e-01 2.37336947e-01 2.38353380e-01\n",
      " 2.38692190e-01 2.39878028e-01 2.40216839e-01 2.41233271e-01\n",
      " 2.41572082e-01 2.45637811e-01 2.45976622e-01 2.46146027e-01\n",
      " 2.46484838e-01 2.47670676e-01 2.48009487e-01 2.56310351e-01\n",
      " 2.56649161e-01 2.59529053e-01 2.59867864e-01 2.60376080e-01\n",
      " 2.60714891e-01 2.61392512e-01 2.61731323e-01 2.62408945e-01\n",
      " 2.62747755e-01 2.63764188e-01 2.64102998e-01 2.64780620e-01\n",
      " 2.65119431e-01 2.66982890e-01 2.67321701e-01 2.70370998e-01\n",
      " 2.70709809e-01 2.76638997e-01 2.76977808e-01 2.77316619e-01\n",
      " 2.77655429e-01 2.79857699e-01 2.80196510e-01 2.80535321e-01\n",
      " 2.80874132e-01 2.85786888e-01 2.86125699e-01 2.86295104e-01\n",
      " 2.86972726e-01 2.87819753e-01 2.88158563e-01 2.89683212e-01\n",
      " 2.90022023e-01 2.92224293e-01 2.92563104e-01 2.93410130e-01\n",
      " 2.93748941e-01 2.95104184e-01 2.95442995e-01 2.99847535e-01\n",
      " 3.00186346e-01 3.00863967e-01 3.00863967e-01 3.01372184e-01\n",
      " 3.01710994e-01 3.03913264e-01 3.04252075e-01 3.05099102e-01\n",
      " 3.05437913e-01 3.13569372e-01 3.13908182e-01 3.15432831e-01\n",
      " 3.15432831e-01 3.15941047e-01 3.16279858e-01 3.17465695e-01\n",
      " 3.17804506e-01 3.19329155e-01 3.19667965e-01 3.21870235e-01\n",
      " 3.22209046e-01 3.23394884e-01 3.23733695e-01 3.24241911e-01\n",
      " 3.24919532e-01 3.27799424e-01 3.28138235e-01 3.30509910e-01\n",
      " 3.30848721e-01 3.31187532e-01 3.31526343e-01 3.33898018e-01\n",
      " 3.34575640e-01 3.36608504e-01 3.36947315e-01 3.37286126e-01\n",
      " 3.37624936e-01 3.38302558e-01 3.38641369e-01 3.39318990e-01\n",
      " 3.39657801e-01 3.41013044e-01 3.41351855e-01 3.42198882e-01\n",
      " 3.42537693e-01 3.44401152e-01 3.44739963e-01 3.45417584e-01\n",
      " 3.45756395e-01 3.47619854e-01 3.47958665e-01 3.48805692e-01\n",
      " 3.49144503e-01 3.50499746e-01 3.50838557e-01 3.54057259e-01\n",
      " 3.54396070e-01 3.54565475e-01 3.54565475e-01 3.55581908e-01\n",
      " 3.55920718e-01 3.62358123e-01 3.62696934e-01 3.63882771e-01\n",
      " 3.64221582e-01 3.64390988e-01 3.64729798e-01 3.65407420e-01\n",
      " 3.65746231e-01 3.68456717e-01 3.68795528e-01 3.68964933e-01\n",
      " 3.69303744e-01 3.73877689e-01 3.74216500e-01 3.75741149e-01\n",
      " 3.76079959e-01 3.76588176e-01 3.76926986e-01 3.78282229e-01\n",
      " 3.78621040e-01 3.80315094e-01 3.80992716e-01 3.81331526e-01\n",
      " 3.81670337e-01 3.83364391e-01 3.83703202e-01 3.85227850e-01\n",
      " 3.85566661e-01 3.92004066e-01 3.92342877e-01 3.93020498e-01\n",
      " 3.93359309e-01 3.93698120e-01 3.94036930e-01 3.94545147e-01\n",
      " 3.94883957e-01 3.95053363e-01 3.95392173e-01 3.95730984e-01\n",
      " 3.96069795e-01 4.03354227e-01 4.03693037e-01 4.06742334e-01\n",
      " 4.07081145e-01 4.09452821e-01 4.09791631e-01 4.09961037e-01\n",
      " 4.10299848e-01 4.11993901e-01 4.12332712e-01 4.13010334e-01\n",
      " 4.13349145e-01 4.16059631e-01 4.16398441e-01 4.17076063e-01\n",
      " 4.17414874e-01 4.18939522e-01 4.19278333e-01 4.20633576e-01\n",
      " 4.20972387e-01 4.23005252e-01 4.23344062e-01 4.24360495e-01\n",
      " 4.24699305e-01 4.25038116e-01 4.25376927e-01 4.25715738e-01\n",
      " 4.26054549e-01 4.27409792e-01 4.27748602e-01 4.34355413e-01\n",
      " 4.34694223e-01 4.38759953e-01 4.39098763e-01 4.42656276e-01\n",
      " 4.42995087e-01 4.48246654e-01 4.48924276e-01 4.50957140e-01\n",
      " 4.51295951e-01 4.55192275e-01 4.55531086e-01 4.56716924e-01\n",
      " 4.57055734e-01 4.64170761e-01 4.64509571e-01 4.72471625e-01\n",
      " 4.72810435e-01 4.74165678e-01 4.74504489e-01 4.80264272e-01\n",
      " 4.80603083e-01 4.82635948e-01 4.82635948e-01 4.88395731e-01\n",
      " 4.88734542e-01 4.89750974e-01 4.90089785e-01 4.90767406e-01\n",
      " 4.91445028e-01 4.95680163e-01 4.96018973e-01 4.98898865e-01\n",
      " 4.99237676e-01 4.99407081e-01 4.99745892e-01 5.00084703e-01\n",
      " 5.00423513e-01 5.01101135e-01 5.01439946e-01 5.08216161e-01\n",
      " 5.08554972e-01 5.09063188e-01 5.09401999e-01 5.10587837e-01\n",
      " 5.10926647e-01 5.11773674e-01 5.12112485e-01 5.32271726e-01\n",
      " 5.32610537e-01 5.32949348e-01 5.33288159e-01 5.33965780e-01\n",
      " 5.34643402e-01 5.35998645e-01 5.37015077e-01 5.38539726e-01\n",
      " 5.38878536e-01 5.44130103e-01 5.44468914e-01 5.48365238e-01\n",
      " 5.48704049e-01 5.48873454e-01 5.49212265e-01 5.49889886e-01\n",
      " 5.50567508e-01 5.56157886e-01 5.56496697e-01 5.59037777e-01\n",
      " 5.59376588e-01 5.60562426e-01 5.60901237e-01 5.62425885e-01\n",
      " 5.62764696e-01 5.64458750e-01 5.64797561e-01 5.74284262e-01\n",
      " 5.74623073e-01 5.74961884e-01 5.75300695e-01 5.80213451e-01\n",
      " 5.80552262e-01 5.87328477e-01 5.87667288e-01 5.92749449e-01\n",
      " 5.93088260e-01 5.93427071e-01 5.93765882e-01 5.94951719e-01\n",
      " 5.95290530e-01 6.01219719e-01 6.01558530e-01 6.04269016e-01\n",
      " 6.04607827e-01 6.05963070e-01 6.06301880e-01 6.12400474e-01\n",
      " 6.12739285e-01 6.16635609e-01 6.16974420e-01 6.24597662e-01\n",
      " 6.24936473e-01 6.27308148e-01 6.27985770e-01 6.29510418e-01\n",
      " 6.29849229e-01 6.31204472e-01 6.31543283e-01 6.33576148e-01\n",
      " 6.33914958e-01 6.36456039e-01 6.36794850e-01 6.41368796e-01\n",
      " 6.41707606e-01 6.43232255e-01 6.43571066e-01 6.48145011e-01\n",
      " 6.48822633e-01 6.50686092e-01 6.51024903e-01 6.51533119e-01\n",
      " 6.51871930e-01 6.52041335e-01 6.52380146e-01 6.55768253e-01\n",
      " 6.56107064e-01 6.57462307e-01 6.57801118e-01 6.58139929e-01\n",
      " 6.58478740e-01 6.65085550e-01 6.65763171e-01 6.69659495e-01\n",
      " 6.69998306e-01 6.71184144e-01 6.71522954e-01 6.72878198e-01\n",
      " 6.73217008e-01 6.74064035e-01 6.74402846e-01 6.75249873e-01\n",
      " 6.76266305e-01 6.78637981e-01 6.78976791e-01 6.85753007e-01\n",
      " 6.86091818e-01 6.88124682e-01 6.88463493e-01 7.02015924e-01\n",
      " 7.02354735e-01 7.02693546e-01 7.03371167e-01 7.08622734e-01\n",
      " 7.08961545e-01 7.09300356e-01 7.09639167e-01 7.13196680e-01\n",
      " 7.13535490e-01 7.17093004e-01 7.17431814e-01 7.20311706e-01\n",
      " 7.20989327e-01 7.21158733e-01 7.21497544e-01 7.23022192e-01\n",
      " 7.23361003e-01 7.24377435e-01 7.24716246e-01 7.31153651e-01\n",
      " 7.31492461e-01 7.42673217e-01 7.43012028e-01 7.50974081e-01\n",
      " 7.51312892e-01 7.57242080e-01 7.57580891e-01 7.58597323e-01\n",
      " 7.58936134e-01 7.59105540e-01 7.59444350e-01 7.62154837e-01\n",
      " 7.62493647e-01 7.64018296e-01 7.64357107e-01 7.69269863e-01\n",
      " 7.69608674e-01 7.70116890e-01 7.70455700e-01 7.75876673e-01\n",
      " 7.76215484e-01 7.79264781e-01 7.79942402e-01 7.80281213e-01\n",
      " 7.80789429e-01 7.81128240e-01 7.81467051e-01 7.83161105e-01\n",
      " 7.83499915e-01 7.84346942e-01 7.84685753e-01 7.85702185e-01\n",
      " 7.86040996e-01 7.86888023e-01 7.87226834e-01 7.92139590e-01\n",
      " 7.92478401e-01 7.97052346e-01 7.97391157e-01 8.01965102e-01\n",
      " 8.02303913e-01 8.03150940e-01 8.03489751e-01 8.07216669e-01\n",
      " 8.07555480e-01 8.10265966e-01 8.10604777e-01 8.12637642e-01\n",
      " 8.12976453e-01 8.19413857e-01 8.19752668e-01 8.20769100e-01\n",
      " 8.21107911e-01 8.31441640e-01 8.31780451e-01 8.38048450e-01\n",
      " 8.38387261e-01 8.41944774e-01 8.42283585e-01 8.43977638e-01\n",
      " 8.44316449e-01 8.47026935e-01 8.47365746e-01 8.48382179e-01\n",
      " 8.48720989e-01 8.53972556e-01 8.54311367e-01 8.55327799e-01\n",
      " 8.55666610e-01 8.56005421e-01 8.56683043e-01 8.57530069e-01\n",
      " 8.57868880e-01 8.60240556e-01 8.60579366e-01 8.63120447e-01\n",
      " 8.63459258e-01 8.67355582e-01 8.67355582e-01 8.68541420e-01\n",
      " 8.69219041e-01 8.74470608e-01 8.74809419e-01 8.75656446e-01\n",
      " 8.75995257e-01 8.77181094e-01 8.77519905e-01 8.78028121e-01\n",
      " 8.78366932e-01 8.80230391e-01 8.80569202e-01 8.82771472e-01\n",
      " 8.83110283e-01 8.83957310e-01 8.84296121e-01 8.85990174e-01\n",
      " 8.86328985e-01 8.87684228e-01 8.88023039e-01 8.91749958e-01\n",
      " 8.92088768e-01 8.93274606e-01 8.93782822e-01 8.99034389e-01\n",
      " 8.99373200e-01 9.04624767e-01 9.04963578e-01 9.09198713e-01\n",
      " 9.09537523e-01 9.10215145e-01 9.10553956e-01 9.16821955e-01\n",
      " 9.17160766e-01 9.18854820e-01 9.19193630e-01 9.20379468e-01\n",
      " 9.20718279e-01 9.28510927e-01 9.28849737e-01 9.32576656e-01\n",
      " 9.32915467e-01 9.40199898e-01 9.40538709e-01 9.49856005e-01\n",
      " 9.50194816e-01 9.52566492e-01 9.52905302e-01 9.55107572e-01\n",
      " 9.55446383e-01 9.57987464e-01 9.58326275e-01 9.72556327e-01\n",
      " 9.72895138e-01 9.75605624e-01 9.75944435e-01 9.87464001e-01\n",
      " 9.87972218e-01 9.88311028e-01 9.91190920e-01 9.91529731e-01\n",
      " 9.92037947e-01 9.92376758e-01 9.95087244e-01 9.95426055e-01\n",
      " 1.00000000e+00]\n",
      "[0.00000000e+00 1.88075983e-04 4.51382358e-03 4.88997555e-03\n",
      " 2.38856498e-02 2.42618018e-02 5.58585669e-02 5.62347188e-02\n",
      " 5.90558586e-02 5.94320105e-02 9.72352831e-02 9.76114350e-02\n",
      " 1.53846154e-01 1.54222306e-01 2.10080873e-01 2.10457025e-01\n",
      " 4.01166071e-01 4.01542223e-01 4.22606733e-01 4.22982885e-01\n",
      " 4.43295091e-01 4.43671243e-01 6.05980816e-01 6.06356968e-01\n",
      " 6.77073538e-01 6.77449690e-01 6.79142374e-01 6.79518525e-01\n",
      " 7.21271394e-01 7.21271394e-01 7.80703404e-01 7.80703404e-01\n",
      " 8.01203686e-01 8.01203686e-01 8.36750047e-01 8.36750047e-01\n",
      " 8.47282302e-01 8.47658454e-01 8.58566861e-01 8.58566861e-01\n",
      " 8.81135979e-01 8.81512131e-01 8.87906714e-01 8.87906714e-01\n",
      " 8.92420538e-01 8.92420538e-01 8.94113222e-01 8.94113222e-01\n",
      " 8.95993982e-01 8.95993982e-01 8.97874741e-01 8.97874741e-01\n",
      " 8.98627045e-01 8.98627045e-01 8.99191273e-01 8.99191273e-01\n",
      " 9.06902389e-01 9.06902389e-01 9.10287756e-01 9.10287756e-01\n",
      " 9.32104570e-01 9.32104570e-01 9.33044950e-01 9.33044950e-01\n",
      " 9.36994546e-01 9.36994546e-01 9.39627610e-01 9.39627610e-01\n",
      " 9.41132217e-01 9.41132217e-01 9.44705661e-01 9.44705661e-01\n",
      " 9.47338725e-01 9.47338725e-01 9.48279105e-01 9.48279105e-01\n",
      " 9.49031409e-01 9.49031409e-01 9.50912169e-01 9.50912169e-01\n",
      " 9.52040624e-01 9.52040624e-01 9.52981004e-01 9.52981004e-01\n",
      " 9.54485612e-01 9.54485612e-01 9.55237916e-01 9.55614068e-01\n",
      " 9.61068272e-01 9.61068272e-01 9.61632500e-01 9.61632500e-01\n",
      " 9.62196727e-01 9.62196727e-01 9.70660147e-01 9.70660147e-01\n",
      " 9.70848223e-01 9.70848223e-01 9.71976679e-01 9.71976679e-01\n",
      " 9.73481286e-01 9.73481286e-01 9.73669362e-01 9.73669362e-01\n",
      " 9.73669362e-01 9.74233590e-01 9.74233590e-01 9.74985894e-01\n",
      " 9.74985894e-01 9.75550122e-01 9.75550122e-01 9.76114350e-01\n",
      " 9.76114350e-01 9.76302426e-01 9.76302426e-01 9.76678578e-01\n",
      " 9.76678578e-01 9.77054730e-01 9.77054730e-01 9.77242806e-01\n",
      " 9.77242806e-01 9.77430882e-01 9.77430882e-01 9.77618958e-01\n",
      " 9.77618958e-01 9.78183186e-01 9.78183186e-01 9.78559338e-01\n",
      " 9.78559338e-01 9.79311642e-01 9.79311642e-01 9.79687794e-01\n",
      " 9.79687794e-01 9.80063946e-01 9.80063946e-01 9.80252022e-01\n",
      " 9.80252022e-01 9.80440098e-01 9.80440098e-01 9.80816250e-01\n",
      " 9.80816250e-01 9.81192402e-01 9.81192402e-01 9.81380478e-01\n",
      " 9.81380478e-01 9.81756630e-01 9.81756630e-01 9.81944706e-01\n",
      " 9.81944706e-01 9.82508934e-01 9.82508934e-01 9.83261238e-01\n",
      " 9.83261238e-01 9.83825465e-01 9.83825465e-01 9.85330073e-01\n",
      " 9.85330073e-01 9.85518149e-01 9.85518149e-01 9.85894301e-01\n",
      " 9.85894301e-01 9.85894301e-01 9.86082377e-01 9.86082377e-01\n",
      " 9.86082377e-01 9.86082377e-01 9.86270453e-01 9.86270453e-01\n",
      " 9.86270453e-01 9.86458529e-01 9.86458529e-01 9.87398909e-01\n",
      " 9.87398909e-01 9.87398909e-01 9.87586985e-01 9.87586985e-01\n",
      " 9.87775061e-01 9.87775061e-01 9.87963137e-01 9.87963137e-01\n",
      " 9.88151213e-01 9.88151213e-01 9.88527365e-01 9.88527365e-01\n",
      " 9.88715441e-01 9.88715441e-01 9.89091593e-01 9.89091593e-01\n",
      " 9.89091593e-01 9.89091593e-01 9.89279669e-01 9.89279669e-01\n",
      " 9.89279669e-01 9.89467745e-01 9.89467745e-01 9.89467745e-01\n",
      " 9.89467745e-01 9.90220049e-01 9.90220049e-01 9.90408125e-01\n",
      " 9.90408125e-01 9.90784277e-01 9.90784277e-01 9.90972353e-01\n",
      " 9.90972353e-01 9.91724657e-01 9.91724657e-01 9.91724657e-01\n",
      " 9.91724657e-01 9.92100809e-01 9.92100809e-01 9.92100809e-01\n",
      " 9.92100809e-01 9.92288885e-01 9.92288885e-01 9.92665037e-01\n",
      " 9.92665037e-01 9.93229265e-01 9.93229265e-01 9.93417341e-01\n",
      " 9.93417341e-01 9.93417341e-01 9.93605417e-01 9.93605417e-01\n",
      " 9.93605417e-01 9.93793493e-01 9.93793493e-01 9.93981569e-01\n",
      " 9.93981569e-01 9.94169645e-01 9.94169645e-01 9.94545797e-01\n",
      " 9.94545797e-01 9.94545797e-01 9.94545797e-01 9.94545797e-01\n",
      " 9.94545797e-01 9.94733872e-01 9.94733872e-01 9.94733872e-01\n",
      " 9.94733872e-01 9.94733872e-01 9.94733872e-01 9.94733872e-01\n",
      " 9.94733872e-01 9.94733872e-01 9.94921948e-01 9.94921948e-01\n",
      " 9.94921948e-01 9.94921948e-01 9.95110024e-01 9.95110024e-01\n",
      " 9.95298100e-01 9.95298100e-01 9.95298100e-01 9.95298100e-01\n",
      " 9.95486176e-01 9.95486176e-01 9.95486176e-01 9.95486176e-01\n",
      " 9.95486176e-01 9.95486176e-01 9.95486176e-01 9.95486176e-01\n",
      " 9.95862328e-01 9.95862328e-01 9.96050404e-01 9.96050404e-01\n",
      " 9.96238480e-01 9.96238480e-01 9.96238480e-01 9.96238480e-01\n",
      " 9.96426556e-01 9.96426556e-01 9.96426556e-01 9.96426556e-01\n",
      " 9.96614632e-01 9.96614632e-01 9.96614632e-01 9.96614632e-01\n",
      " 9.96614632e-01 9.96614632e-01 9.96802708e-01 9.96802708e-01\n",
      " 9.96802708e-01 9.96802708e-01 9.96990784e-01 9.96990784e-01\n",
      " 9.96990784e-01 9.96990784e-01 9.96990784e-01 9.96990784e-01\n",
      " 9.97178860e-01 9.97178860e-01 9.97178860e-01 9.97178860e-01\n",
      " 9.97178860e-01 9.97178860e-01 9.97178860e-01 9.97178860e-01\n",
      " 9.97178860e-01 9.97178860e-01 9.97178860e-01 9.97178860e-01\n",
      " 9.97366936e-01 9.97366936e-01 9.97555012e-01 9.97555012e-01\n",
      " 9.97555012e-01 9.97555012e-01 9.97555012e-01 9.97555012e-01\n",
      " 9.97555012e-01 9.97555012e-01 9.97555012e-01 9.97555012e-01\n",
      " 9.97555012e-01 9.97555012e-01 9.97555012e-01 9.97555012e-01\n",
      " 9.97555012e-01 9.97555012e-01 9.97931164e-01 9.97931164e-01\n",
      " 9.98119240e-01 9.98119240e-01 9.98119240e-01 9.98119240e-01\n",
      " 9.98119240e-01 9.98119240e-01 9.98119240e-01 9.98119240e-01\n",
      " 9.98119240e-01 9.98119240e-01 9.98119240e-01 9.98119240e-01\n",
      " 9.98119240e-01 9.98119240e-01 9.98119240e-01 9.98119240e-01\n",
      " 9.98307316e-01 9.98307316e-01 9.98495392e-01 9.98495392e-01\n",
      " 9.98495392e-01 9.98495392e-01 9.98495392e-01 9.98495392e-01\n",
      " 9.98495392e-01 9.98495392e-01 9.98495392e-01 9.98495392e-01\n",
      " 9.98683468e-01 9.98683468e-01 9.98683468e-01 9.98683468e-01\n",
      " 9.98683468e-01 9.98683468e-01 9.98683468e-01 9.98683468e-01\n",
      " 9.98683468e-01 9.98683468e-01 9.98683468e-01 9.98683468e-01\n",
      " 9.98683468e-01 9.98683468e-01 9.98683468e-01 9.98683468e-01\n",
      " 9.98683468e-01 9.98683468e-01 9.98871544e-01 9.98871544e-01\n",
      " 9.98871544e-01 9.98871544e-01 9.98871544e-01 9.98871544e-01\n",
      " 9.98871544e-01 9.98871544e-01 9.98871544e-01 9.98871544e-01\n",
      " 9.98871544e-01 9.98871544e-01 9.98871544e-01 9.98871544e-01\n",
      " 9.98871544e-01 9.98871544e-01 9.98871544e-01 9.98871544e-01\n",
      " 9.98871544e-01 9.98871544e-01 9.98871544e-01 9.98871544e-01\n",
      " 9.98871544e-01 9.98871544e-01 9.98871544e-01 9.98871544e-01\n",
      " 9.98871544e-01 9.98871544e-01 9.98871544e-01 9.98871544e-01\n",
      " 9.98871544e-01 9.98871544e-01 9.98871544e-01 9.98871544e-01\n",
      " 9.98871544e-01 9.98871544e-01 9.99059620e-01 9.99059620e-01\n",
      " 9.99059620e-01 9.99059620e-01 9.99059620e-01 9.99059620e-01\n",
      " 9.99059620e-01 9.99059620e-01 9.99059620e-01 9.99059620e-01\n",
      " 9.99059620e-01 9.99059620e-01 9.99059620e-01 9.99059620e-01\n",
      " 9.99059620e-01 9.99059620e-01 9.99059620e-01 9.99059620e-01\n",
      " 9.99059620e-01 9.99059620e-01 9.99059620e-01 9.99059620e-01\n",
      " 9.99059620e-01 9.99059620e-01 9.99059620e-01 9.99059620e-01\n",
      " 9.99059620e-01 9.99059620e-01 9.99059620e-01 9.99059620e-01\n",
      " 9.99059620e-01 9.99059620e-01 9.99059620e-01 9.99059620e-01\n",
      " 9.99059620e-01 9.99059620e-01 9.99059620e-01 9.99059620e-01\n",
      " 9.99059620e-01 9.99059620e-01 9.99059620e-01 9.99059620e-01\n",
      " 9.99059620e-01 9.99059620e-01 9.99059620e-01 9.99059620e-01\n",
      " 9.99059620e-01 9.99059620e-01 9.99059620e-01 9.99059620e-01\n",
      " 9.99059620e-01 9.99059620e-01 9.99059620e-01 9.99059620e-01\n",
      " 9.99059620e-01 9.99059620e-01 9.99059620e-01 9.99059620e-01\n",
      " 9.99059620e-01 9.99059620e-01 9.99059620e-01 9.99059620e-01\n",
      " 9.99059620e-01 9.99059620e-01 9.99059620e-01 9.99059620e-01\n",
      " 9.99059620e-01 9.99059620e-01 9.99059620e-01 9.99059620e-01\n",
      " 9.99059620e-01 9.99059620e-01 9.99059620e-01 9.99059620e-01\n",
      " 9.99059620e-01 9.99059620e-01 9.99059620e-01 9.99059620e-01\n",
      " 9.99059620e-01 9.99059620e-01 9.99247696e-01 9.99247696e-01\n",
      " 9.99247696e-01 9.99247696e-01 9.99247696e-01 9.99247696e-01\n",
      " 9.99247696e-01 9.99247696e-01 9.99247696e-01 9.99247696e-01\n",
      " 9.99435772e-01 9.99435772e-01 9.99435772e-01 9.99435772e-01\n",
      " 9.99435772e-01 9.99435772e-01 9.99435772e-01 9.99435772e-01\n",
      " 9.99435772e-01 9.99435772e-01 9.99435772e-01 9.99435772e-01\n",
      " 9.99435772e-01 9.99435772e-01 9.99435772e-01 9.99435772e-01\n",
      " 9.99435772e-01 9.99435772e-01 9.99435772e-01 9.99435772e-01\n",
      " 9.99435772e-01 9.99435772e-01 9.99435772e-01 9.99435772e-01\n",
      " 9.99435772e-01 9.99435772e-01 9.99435772e-01 9.99435772e-01\n",
      " 9.99435772e-01 9.99435772e-01 9.99435772e-01 9.99435772e-01\n",
      " 9.99435772e-01 9.99435772e-01 9.99435772e-01 9.99435772e-01\n",
      " 9.99435772e-01 9.99435772e-01 9.99435772e-01 9.99435772e-01\n",
      " 9.99435772e-01 9.99435772e-01 9.99435772e-01 9.99435772e-01\n",
      " 9.99435772e-01 9.99435772e-01 9.99623848e-01 9.99623848e-01\n",
      " 9.99623848e-01 9.99623848e-01 9.99623848e-01 9.99623848e-01\n",
      " 9.99623848e-01 9.99623848e-01 9.99623848e-01 9.99623848e-01\n",
      " 9.99623848e-01 9.99623848e-01 9.99623848e-01 9.99623848e-01\n",
      " 9.99623848e-01 9.99623848e-01 9.99623848e-01 9.99623848e-01\n",
      " 9.99623848e-01 9.99623848e-01 9.99623848e-01 9.99623848e-01\n",
      " 9.99623848e-01 9.99623848e-01 9.99623848e-01 9.99623848e-01\n",
      " 9.99623848e-01 9.99623848e-01 9.99623848e-01 9.99623848e-01\n",
      " 9.99623848e-01 9.99623848e-01 9.99623848e-01 9.99623848e-01\n",
      " 9.99623848e-01 9.99623848e-01 9.99623848e-01 9.99623848e-01\n",
      " 9.99623848e-01 9.99623848e-01 9.99623848e-01 9.99623848e-01\n",
      " 9.99623848e-01 9.99623848e-01 9.99623848e-01 9.99623848e-01\n",
      " 9.99623848e-01 9.99623848e-01 9.99623848e-01 9.99623848e-01\n",
      " 9.99623848e-01 9.99623848e-01 9.99623848e-01 9.99623848e-01\n",
      " 9.99623848e-01 9.99623848e-01 9.99623848e-01 9.99623848e-01\n",
      " 9.99623848e-01 9.99623848e-01 9.99623848e-01 9.99623848e-01\n",
      " 9.99623848e-01 9.99623848e-01 9.99623848e-01 9.99623848e-01\n",
      " 9.99623848e-01 9.99623848e-01 9.99623848e-01 9.99623848e-01\n",
      " 9.99623848e-01 9.99623848e-01 9.99623848e-01 9.99623848e-01\n",
      " 9.99623848e-01 9.99623848e-01 9.99623848e-01 9.99623848e-01\n",
      " 9.99623848e-01 9.99623848e-01 9.99623848e-01 9.99623848e-01\n",
      " 9.99623848e-01 9.99623848e-01 9.99623848e-01 9.99623848e-01\n",
      " 9.99623848e-01 9.99623848e-01 9.99623848e-01 9.99623848e-01\n",
      " 9.99623848e-01 9.99623848e-01 9.99623848e-01 9.99623848e-01\n",
      " 9.99623848e-01 9.99623848e-01 9.99811924e-01 9.99811924e-01\n",
      " 9.99811924e-01 9.99811924e-01 9.99811924e-01 9.99811924e-01\n",
      " 9.99811924e-01 9.99811924e-01 9.99811924e-01 9.99811924e-01\n",
      " 9.99811924e-01 9.99811924e-01 9.99811924e-01 9.99811924e-01\n",
      " 9.99811924e-01 9.99811924e-01 9.99811924e-01 9.99811924e-01\n",
      " 9.99811924e-01 9.99811924e-01 9.99811924e-01 9.99811924e-01\n",
      " 9.99811924e-01 9.99811924e-01 9.99811924e-01 9.99811924e-01\n",
      " 9.99811924e-01 9.99811924e-01 9.99811924e-01 9.99811924e-01\n",
      " 9.99811924e-01 9.99811924e-01 9.99811924e-01 9.99811924e-01\n",
      " 9.99811924e-01 9.99811924e-01 9.99811924e-01 9.99811924e-01\n",
      " 9.99811924e-01 9.99811924e-01 9.99811924e-01 9.99811924e-01\n",
      " 9.99811924e-01 9.99811924e-01 9.99811924e-01 9.99811924e-01\n",
      " 9.99811924e-01 9.99811924e-01 9.99811924e-01 9.99811924e-01\n",
      " 9.99811924e-01 9.99811924e-01 9.99811924e-01 9.99811924e-01\n",
      " 9.99811924e-01 9.99811924e-01 9.99811924e-01 9.99811924e-01\n",
      " 9.99811924e-01 9.99811924e-01 9.99811924e-01 9.99811924e-01\n",
      " 9.99811924e-01 9.99811924e-01 9.99811924e-01 9.99811924e-01\n",
      " 9.99811924e-01 9.99811924e-01 9.99811924e-01 9.99811924e-01\n",
      " 9.99811924e-01 9.99811924e-01 9.99811924e-01 9.99811924e-01\n",
      " 9.99811924e-01 9.99811924e-01 9.99811924e-01 9.99811924e-01\n",
      " 9.99811924e-01 9.99811924e-01 9.99811924e-01 9.99811924e-01\n",
      " 9.99811924e-01 9.99811924e-01 9.99811924e-01 9.99811924e-01\n",
      " 9.99811924e-01 9.99811924e-01 9.99811924e-01 9.99811924e-01\n",
      " 9.99811924e-01 9.99811924e-01 9.99811924e-01 9.99811924e-01\n",
      " 9.99811924e-01 9.99811924e-01 9.99811924e-01 9.99811924e-01\n",
      " 9.99811924e-01 9.99811924e-01 9.99811924e-01 9.99811924e-01\n",
      " 9.99811924e-01 9.99811924e-01 9.99811924e-01 9.99811924e-01\n",
      " 9.99811924e-01 9.99811924e-01 9.99811924e-01 9.99811924e-01\n",
      " 9.99811924e-01 9.99811924e-01 9.99811924e-01 9.99811924e-01\n",
      " 9.99811924e-01 9.99811924e-01 9.99811924e-01 9.99811924e-01\n",
      " 9.99811924e-01 9.99811924e-01 9.99811924e-01 9.99811924e-01\n",
      " 9.99811924e-01 9.99811924e-01 9.99811924e-01 9.99811924e-01\n",
      " 9.99811924e-01 9.99811924e-01 9.99811924e-01 9.99811924e-01\n",
      " 9.99811924e-01 9.99811924e-01 9.99811924e-01 9.99811924e-01\n",
      " 9.99811924e-01 9.99811924e-01 9.99811924e-01 9.99811924e-01\n",
      " 9.99811924e-01 9.99811924e-01 9.99811924e-01 9.99811924e-01\n",
      " 9.99811924e-01 9.99811924e-01 9.99811924e-01 9.99811924e-01\n",
      " 9.99811924e-01 9.99811924e-01 9.99811924e-01 9.99811924e-01\n",
      " 9.99811924e-01 9.99811924e-01 9.99811924e-01 9.99811924e-01\n",
      " 9.99811924e-01 9.99811924e-01 9.99811924e-01 9.99811924e-01\n",
      " 9.99811924e-01 9.99811924e-01 9.99811924e-01 9.99811924e-01\n",
      " 9.99811924e-01 9.99811924e-01 9.99811924e-01 9.99811924e-01\n",
      " 9.99811924e-01 9.99811924e-01 9.99811924e-01 9.99811924e-01\n",
      " 9.99811924e-01 9.99811924e-01 9.99811924e-01 9.99811924e-01\n",
      " 9.99811924e-01 9.99811924e-01 9.99811924e-01 9.99811924e-01\n",
      " 9.99811924e-01 9.99811924e-01 9.99811924e-01 9.99811924e-01\n",
      " 9.99811924e-01 9.99811924e-01 9.99811924e-01 9.99811924e-01\n",
      " 9.99811924e-01 9.99811924e-01 9.99811924e-01 9.99811924e-01\n",
      " 9.99811924e-01 9.99811924e-01 9.99811924e-01 9.99811924e-01\n",
      " 9.99811924e-01 9.99811924e-01 9.99811924e-01 9.99811924e-01\n",
      " 9.99811924e-01 9.99811924e-01 9.99811924e-01 9.99811924e-01\n",
      " 9.99811924e-01 9.99811924e-01 9.99811924e-01 9.99811924e-01\n",
      " 9.99811924e-01 9.99811924e-01 9.99811924e-01 9.99811924e-01\n",
      " 9.99811924e-01 9.99811924e-01 9.99811924e-01 9.99811924e-01\n",
      " 9.99811924e-01 9.99811924e-01 9.99811924e-01 9.99811924e-01\n",
      " 9.99811924e-01 9.99811924e-01 9.99811924e-01 9.99811924e-01\n",
      " 9.99811924e-01 9.99811924e-01 1.00000000e+00 1.00000000e+00\n",
      " 1.00000000e+00 1.00000000e+00 1.00000000e+00 1.00000000e+00\n",
      " 1.00000000e+00 1.00000000e+00 1.00000000e+00 1.00000000e+00\n",
      " 1.00000000e+00 1.00000000e+00 1.00000000e+00 1.00000000e+00\n",
      " 1.00000000e+00 1.00000000e+00 1.00000000e+00 1.00000000e+00\n",
      " 1.00000000e+00 1.00000000e+00 1.00000000e+00 1.00000000e+00\n",
      " 1.00000000e+00 1.00000000e+00 1.00000000e+00 1.00000000e+00\n",
      " 1.00000000e+00 1.00000000e+00 1.00000000e+00 1.00000000e+00\n",
      " 1.00000000e+00 1.00000000e+00 1.00000000e+00 1.00000000e+00\n",
      " 1.00000000e+00 1.00000000e+00 1.00000000e+00 1.00000000e+00\n",
      " 1.00000000e+00 1.00000000e+00 1.00000000e+00 1.00000000e+00\n",
      " 1.00000000e+00 1.00000000e+00 1.00000000e+00 1.00000000e+00\n",
      " 1.00000000e+00 1.00000000e+00 1.00000000e+00 1.00000000e+00\n",
      " 1.00000000e+00 1.00000000e+00 1.00000000e+00 1.00000000e+00\n",
      " 1.00000000e+00 1.00000000e+00 1.00000000e+00 1.00000000e+00\n",
      " 1.00000000e+00 1.00000000e+00 1.00000000e+00 1.00000000e+00\n",
      " 1.00000000e+00 1.00000000e+00 1.00000000e+00 1.00000000e+00\n",
      " 1.00000000e+00]\n"
     ]
    }
   ],
   "source": [
    "from sklearn import metrics\n",
    "fpr, tpr, thresholds = metrics.roc_curve(y_test_data, y_predict_prob_logistic_Reg[:,1], pos_label=1)\n",
    "print(fpr)\n",
    "print(tpr)"
   ]
  },
  {
   "cell_type": "code",
   "execution_count": 72,
   "metadata": {
    "id": "XK-fKQdbnGAG"
   },
   "outputs": [
    {
     "name": "stdout",
     "output_type": "stream",
     "text": [
      "0.9984745549890619\n"
     ]
    }
   ],
   "source": [
    "# AUC:\n",
    "AUC = metrics.auc(fpr, tpr)\n",
    "print(AUC)"
   ]
  },
  {
   "cell_type": "code",
   "execution_count": 73,
   "metadata": {
    "id": "Xtc-NHOUnGAG"
   },
   "outputs": [
    {
     "data": {
      "image/png": "[encoded data removed]",
      "text/plain": [
       "<Figure size 432x288 with 1 Axes>"
      ]
     },
     "metadata": {
      "needs_background": "light"
     },
     "output_type": "display_data"
    }
   ],
   "source": [
    "# Importing the \"pyplot\" package of \"matplotlib\" library of python to generate \n",
    "# graphs and plot curves:\n",
    "import matplotlib.pyplot as plt\n",
    "\n",
    "# The following line will tell Jupyter Notebook to keep the figures inside the explorer page \n",
    "# rather than openng a new figure window:\n",
    "%matplotlib inline\n",
    "\n",
    "plt.figure()\n",
    "\n",
    "# Roc Curve:\n",
    "plt.plot(fpr, tpr, color='red', lw=1, \n",
    "         label='ROC Curve (area = %0.2f)' % AUC)\n",
    "\n",
    "# Random Guess line:\n",
    "plt.plot([0, 2], [0, 2], color='blue', lw=1, linestyle='--')\n",
    "\n",
    "# Defining The Range of X-Axis and Y-Axis:\n",
    "plt.xlim([-0.005, 2.005])\n",
    "plt.ylim([0.0, 2.01])\n",
    "\n",
    "# Labels, Title, Legend:\n",
    "plt.xlabel('False Positive Rate')\n",
    "plt.ylabel('True Positive Rate')\n",
    "plt.title('Receiver operating characteristic')\n",
    "plt.legend(loc=\"lower right\")\n",
    "\n",
    "plt.show()"
   ]
  },
  {
   "cell_type": "markdown",
   "metadata": {},
   "source": [
    "# ML2_Algorithm :- Decision Tree Classifier"
   ]
  },
  {
   "cell_type": "code",
   "execution_count": 74,
   "metadata": {
    "id": "hJC9JJI6nGAH"
   },
   "outputs": [],
   "source": [
    "from sklearn.tree import DecisionTreeClassifier"
   ]
  },
  {
   "cell_type": "code",
   "execution_count": 75,
   "metadata": {
    "id": "q0zq-rlunGAH",
    "outputId": "ed4a20c2-60ad-4c6d-e345-2832280599f2"
   },
   "outputs": [
    {
     "data": {
      "text/plain": [
       "DecisionTreeClassifier()"
      ]
     },
     "execution_count": 75,
     "metadata": {},
     "output_type": "execute_result"
    }
   ],
   "source": [
    "decision_Tree_classifier = DecisionTreeClassifier()\n",
    "decision_Tree_classifier.fit(x_vector_train_data, y_train_data)"
   ]
  },
  {
   "cell_type": "code",
   "execution_count": 98,
   "metadata": {
    "id": "UvWMTlwlnGAH"
   },
   "outputs": [
    {
     "data": {
      "text/plain": [
       "0.9959893048128342"
      ]
     },
     "execution_count": 98,
     "metadata": {},
     "output_type": "execute_result"
    }
   ],
   "source": [
    "# Predicting the Binary Label:\n",
    "y_predict_decision_tree = decision_Tree_classifier.predict(x_vector_test_data)\n",
    "\n",
    "#Accuracy Score\n",
    "decision_Tree_classifier.score(x_vector_test_data, y_test_data)"
   ]
  },
  {
   "cell_type": "code",
   "execution_count": 99,
   "metadata": {},
   "outputs": [
    {
     "name": "stdout",
     "output_type": "stream",
     "text": [
      "              precision    recall  f1-score   support\n",
      "\n",
      "           0       0.99      1.00      1.00      5903\n",
      "           1       1.00      0.99      1.00      5317\n",
      "\n",
      "    accuracy                           1.00     11220\n",
      "   macro avg       1.00      1.00      1.00     11220\n",
      "weighted avg       1.00      1.00      1.00     11220\n",
      "\n"
     ]
    }
   ],
   "source": [
    "print(classification_report(y_test_data, y_predict_decision_tree))"
   ]
  },
  {
   "cell_type": "code",
   "execution_count": 100,
   "metadata": {
    "id": "pqZdHUKinGAH",
    "outputId": "6e23bffa-9ce5-4a4c-f890-98a69c9b70fd"
   },
   "outputs": [
    {
     "name": "stdout",
     "output_type": "stream",
     "text": [
      "6070     1\n",
      "33541    0\n",
      "33575    1\n",
      "9627     1\n",
      "41265    1\n",
      "        ..\n",
      "41142    1\n",
      "2275     0\n",
      "44033    1\n",
      "34922    1\n",
      "20014    1\n",
      "Name: fake/true, Length: 11220, dtype: int64\n",
      "[1 0 1 ... 1 1 1]\n",
      "[[0. 1.]\n",
      " [1. 0.]\n",
      " [0. 1.]\n",
      " ...\n",
      " [0. 1.]\n",
      " [0. 1.]\n",
      " [0. 1.]]\n",
      "[1. 0. 1. ... 1. 1. 1.]\n",
      "[0.         0.00254108 0.03811621 1.        ]\n",
      "[0.         0.99435772 0.99435772 1.        ]\n"
     ]
    }
   ],
   "source": [
    "from sklearn import metrics\n",
    "\n",
    "# Estimating the probability (likelihood) of Each Label: \n",
    "y_predict_prob_decision_tree = decision_Tree_classifier.predict_proba(x_vector_test_data)\n",
    "\n",
    "# This line prints the \"actual label\" of the testing set:\n",
    "print(y_test_data)\n",
    "\n",
    "# This line prints the \"predicted label\" for the testing set:\n",
    "print(y_predict_decision_tree)\n",
    "\n",
    "# This line prints the \"estimated likelihood of both label\" for the testing set:\n",
    "print(y_predict_prob_decision_tree)\n",
    "\n",
    "# This line prints the \"estimated likelihood of label=1\" for the testing set:\n",
    "print(y_predict_prob_decision_tree[:,1])\n",
    "\n",
    "\n",
    "fpr1_decision_tree, tpr1_decision_tree, thresholds = metrics.roc_curve(y_test_data, y_predict_prob_decision_tree[:,1], pos_label=1)\n",
    "\n",
    "print(fpr1_decision_tree)\n",
    "print(tpr1_decision_tree)\n",
    "\n"
   ]
  },
  {
   "cell_type": "code",
   "execution_count": 101,
   "metadata": {
    "id": "rnkpmeCVnGAI",
    "outputId": "730c22f4-ff42-4e37-8e4a-d9da1e74be07"
   },
   "outputs": [
    {
     "name": "stdout",
     "output_type": "stream",
     "text": [
      "0.9958079574397083\n"
     ]
    }
   ],
   "source": [
    "# AUC:\n",
    "AUC_decision_Tree_classifier = metrics.auc(fpr1_decision_tree, tpr1_decision_tree)\n",
    "print(AUC_decision_Tree_classifier)"
   ]
  },
  {
   "cell_type": "code",
   "execution_count": 102,
   "metadata": {
    "id": "-qhKQ1VxnGAI",
    "outputId": "42b4738c-cb5f-4994-e077-b6ac8140c8cd"
   },
   "outputs": [
    {
     "data": {
      "image/png": "[encoded data removed]",
      "text/plain": [
       "<Figure size 432x288 with 1 Axes>"
      ]
     },
     "metadata": {
      "needs_background": "light"
     },
     "output_type": "display_data"
    }
   ],
   "source": [
    "# Importing the \"pyplot\" package of \"matplotlib\" library of python to generate \n",
    "# graphs and plot curves:\n",
    "import matplotlib.pyplot as plt\n",
    "\n",
    "# The following line will tell Jupyter Notebook to keep the figures inside the explorer page \n",
    "# rather than openng a new figure window:\n",
    "%matplotlib inline\n",
    "\n",
    "plt.figure()\n",
    "\n",
    "# Roc Curve:\n",
    "plt.plot(fpr1_decision_tree, tpr1_decision_tree, color='yellow', lw=5, \n",
    "         label='ROC Curve (area = %0.2f)' % AUC_decision_Tree_classifier)\n",
    "\n",
    "# Random Guess line:\n",
    "plt.plot([0, 2], [0, 2], color='blue', lw=1, linestyle='--')\n",
    "\n",
    "# Defining The Range of X-Axis and Y-Axis:\n",
    "plt.xlim([-0.010, 2.005])\n",
    "plt.ylim([0.0, 2.01])\n",
    "\n",
    "# Labels, Title, Legend:\n",
    "plt.xlabel('False Positive Rate')\n",
    "plt.ylabel('True Positive Rate')\n",
    "plt.title('Receiver operating characteristic')\n",
    "plt.legend(loc=\"lower right\")\n",
    "\n",
    "plt.show()"
   ]
  },
  {
   "cell_type": "markdown",
   "metadata": {},
   "source": [
    "# ML3_Algorithm:- Random Forest Classifier"
   ]
  },
  {
   "cell_type": "code",
   "execution_count": 103,
   "metadata": {
    "id": "PsvaO2yjnGAJ"
   },
   "outputs": [
    {
     "data": {
      "text/plain": [
       "0.9859180035650624"
      ]
     },
     "execution_count": 103,
     "metadata": {},
     "output_type": "execute_result"
    }
   ],
   "source": [
    "from sklearn.ensemble import RandomForestClassifier\n",
    "RandomForest = RandomForestClassifier(random_state=0)\n",
    "RandomForest.fit(x_vector_train_data, y_train_data)\n",
    "\n",
    "# Predicting the Binary Label:\n",
    "y_predict_RandomForest  = RandomForest.predict(x_vector_test_data)\n",
    "\n",
    "#Accuracy Score\n",
    "RandomForest.score(x_vector_test_data, y_test_data)\n",
    "\n"
   ]
  },
  {
   "cell_type": "code",
   "execution_count": 104,
   "metadata": {},
   "outputs": [
    {
     "name": "stdout",
     "output_type": "stream",
     "text": [
      "              precision    recall  f1-score   support\n",
      "\n",
      "           0       0.98      0.99      0.99      5903\n",
      "           1       0.99      0.98      0.99      5317\n",
      "\n",
      "    accuracy                           0.99     11220\n",
      "   macro avg       0.99      0.99      0.99     11220\n",
      "weighted avg       0.99      0.99      0.99     11220\n",
      "\n"
     ]
    }
   ],
   "source": [
    "print(classification_report(y_test_data, y_predict_RandomForest))"
   ]
  },
  {
   "cell_type": "code",
   "execution_count": 106,
   "metadata": {
    "id": "eAJHmgNGnO0v"
   },
   "outputs": [
    {
     "name": "stdout",
     "output_type": "stream",
     "text": [
      "6070     1\n",
      "33541    0\n",
      "33575    1\n",
      "9627     1\n",
      "41265    1\n",
      "        ..\n",
      "41142    1\n",
      "2275     0\n",
      "44033    1\n",
      "34922    1\n",
      "20014    1\n",
      "Name: fake/true, Length: 11220, dtype: int64\n",
      "[1 0 1 ... 1 1 1]\n",
      "[[0.37 0.63]\n",
      " [0.94 0.06]\n",
      " [0.32 0.68]\n",
      " ...\n",
      " [0.06 0.94]\n",
      " [0.39 0.61]\n",
      " [0.19 0.81]]\n",
      "[0.63 0.06 0.68 ... 0.94 0.61 0.81]\n"
     ]
    }
   ],
   "source": [
    "# Estimating the probability (likelihood) of Each Label: \n",
    "y_predict_prob_RandomForest = RandomForest.predict_proba(x_vector_test_data)\n",
    "\n",
    "# This line prints the \"actual label\" of the testing set:\n",
    "print(y_test_data)\n",
    "\n",
    "# This line prints the \"predicted label\" for the testing set:\n",
    "print(y_predict_RandomForest )\n",
    "\n",
    "# This line prints the \"estimated likelihood of both label\" for the testing set:\n",
    "print(y_predict_prob_RandomForest )\n",
    "\n",
    "# This line prints the \"estimated likelihood of label=1\" for the testing set:\n",
    "print(y_predict_prob_RandomForest[:,1])"
   ]
  },
  {
   "cell_type": "code",
   "execution_count": 107,
   "metadata": {
    "id": "ogd0rjLRnd15"
   },
   "outputs": [
    {
     "name": "stdout",
     "output_type": "stream",
     "text": [
      "[0.00000000e+00 0.00000000e+00 0.00000000e+00 0.00000000e+00\n",
      " 0.00000000e+00 0.00000000e+00 0.00000000e+00 0.00000000e+00\n",
      " 0.00000000e+00 0.00000000e+00 0.00000000e+00 0.00000000e+00\n",
      " 0.00000000e+00 0.00000000e+00 0.00000000e+00 0.00000000e+00\n",
      " 0.00000000e+00 0.00000000e+00 0.00000000e+00 0.00000000e+00\n",
      " 0.00000000e+00 0.00000000e+00 0.00000000e+00 0.00000000e+00\n",
      " 0.00000000e+00 0.00000000e+00 0.00000000e+00 0.00000000e+00\n",
      " 0.00000000e+00 0.00000000e+00 0.00000000e+00 0.00000000e+00\n",
      " 0.00000000e+00 0.00000000e+00 0.00000000e+00 1.69405387e-04\n",
      " 1.69405387e-04 3.38810774e-04 3.38810774e-04 3.38810774e-04\n",
      " 3.38810774e-04 3.38810774e-04 3.38810774e-04 3.38810774e-04\n",
      " 3.38810774e-04 8.47026935e-04 1.52464848e-03 1.69405387e-03\n",
      " 1.86345926e-03 2.54108081e-03 2.71048619e-03 3.04929697e-03\n",
      " 3.72691852e-03 4.74335084e-03 5.42097239e-03 5.92918855e-03\n",
      " 6.94562087e-03 7.79264781e-03 8.47026935e-03 9.48670168e-03\n",
      " 9.99491784e-03 1.06725394e-02 1.13501609e-02 1.35524310e-02\n",
      " 1.52464848e-02 1.71099441e-02 2.03286465e-02 2.33779434e-02\n",
      " 2.59190242e-02 2.94765374e-02 3.35422666e-02 3.62527528e-02\n",
      " 3.98102660e-02 4.50618330e-02 5.18380484e-02 5.77672370e-02\n",
      " 6.26799932e-02 6.75927494e-02 6.77621548e-02 7.60630188e-02\n",
      " 8.47026935e-02 9.23259360e-02 9.24953414e-02 1.00626800e-01\n",
      " 1.00796205e-01 1.07064205e-01 1.07233610e-01 1.17228528e-01\n",
      " 1.27392851e-01 1.27731662e-01 1.40945282e-01 1.50940200e-01\n",
      " 1.63645604e-01 1.77536846e-01 1.94477384e-01 1.94646790e-01\n",
      " 2.13789599e-01 2.38014569e-01 2.38183974e-01 2.61561918e-01\n",
      " 2.61731323e-01 2.85617483e-01 2.86295104e-01 3.15263425e-01\n",
      " 3.15432831e-01 3.44570557e-01 3.45078774e-01 3.74047095e-01\n",
      " 3.74216500e-01 4.07419956e-01 4.07758767e-01 4.42995087e-01\n",
      " 4.43164493e-01 4.79078435e-01 4.79417245e-01 4.79925462e-01\n",
      " 5.19227511e-01 5.19735728e-01 5.60901237e-01 5.61748264e-01\n",
      " 5.62087074e-01 6.08673556e-01 6.09012367e-01 6.52888362e-01\n",
      " 6.53057767e-01 6.53396578e-01 6.53735389e-01 7.00152465e-01\n",
      " 7.01338303e-01 7.46400136e-01 7.46908352e-01 7.47247162e-01\n",
      " 7.47585973e-01 7.93664239e-01 7.94003049e-01 7.94341860e-01\n",
      " 7.95019482e-01 8.28731154e-01 8.30086397e-01 8.65153312e-01\n",
      " 8.67355582e-01 8.97679146e-01 8.98017957e-01 8.98356768e-01\n",
      " 8.98695579e-01 8.98864984e-01 8.99203795e-01 9.01914281e-01\n",
      " 9.23089954e-01 9.25292224e-01 9.42571574e-01 9.44604438e-01\n",
      " 9.44943249e-01 9.45282060e-01 9.54429951e-01 9.87294596e-01\n",
      " 9.88480434e-01 9.88819244e-01 9.89496866e-01 9.90005082e-01\n",
      " 9.91699136e-01 9.92037947e-01 9.92207352e-01 1.00000000e+00]\n",
      "[0.         0.00282114 0.00883957 0.0188076  0.03197292 0.04833553\n",
      " 0.07410194 0.10005642 0.12883205 0.1292082  0.1636261  0.16381418\n",
      " 0.19747978 0.19766786 0.23791612 0.23810419 0.27665977 0.31502727\n",
      " 0.35489938 0.35508746 0.3930788  0.43276284 0.43313899 0.47338725\n",
      " 0.4737634  0.51156667 0.5121309  0.55256724 0.58754937 0.61388001\n",
      " 0.61406808 0.64321986 0.64340794 0.67444047 0.70095919 0.72860636\n",
      " 0.72879443 0.75418469 0.77844649 0.80045138 0.82076359 0.83750235\n",
      " 0.85273651 0.85292458 0.86402106 0.87793869 0.89072785 0.89994358\n",
      " 0.91085198 0.92025578 0.93041189 0.93793493 0.94470566 0.95166447\n",
      " 0.95561407 0.95956366 0.9655821  0.97047207 0.97310513 0.97536205\n",
      " 0.97818319 0.98006395 0.98288509 0.985142   0.98833929 0.99097235\n",
      " 0.99228888 0.99247696 0.99360542 0.99492195 0.99492195 0.99623848\n",
      " 0.99642656 0.99699078 0.99774309 0.99774309 0.99830732 0.99849539\n",
      " 0.99849539 0.99868347 0.99887154 0.99905962 0.99905962 0.9992477\n",
      " 0.9992477  0.9992477  0.9992477  0.9992477  0.99943577 0.99943577\n",
      " 0.99943577 0.99962385 0.99962385 0.99962385 0.99962385 0.99962385\n",
      " 0.99962385 0.99981192 0.99981192 1.         1.         1.\n",
      " 1.         1.         1.         1.         1.         1.\n",
      " 1.         1.         1.         1.         1.         1.\n",
      " 1.         1.         1.         1.         1.         1.\n",
      " 1.         1.         1.         1.         1.         1.\n",
      " 1.         1.         1.         1.         1.         1.\n",
      " 1.         1.         1.         1.         1.         1.\n",
      " 1.         1.         1.         1.         1.         1.\n",
      " 1.         1.         1.         1.         1.         1.\n",
      " 1.         1.         1.         1.         1.         1.\n",
      " 1.         1.         1.         1.         1.         1.\n",
      " 1.         1.        ]\n"
     ]
    }
   ],
   "source": [
    "from sklearn import metrics\n",
    "\n",
    "fpr_Randomforest, tpr_Randomforest, thresholds = metrics.roc_curve(y_test_data, y_predict_prob_RandomForest[:,1], pos_label=1)\n",
    "\n",
    "print(fpr_Randomforest)\n",
    "print(tpr_Randomforest)"
   ]
  },
  {
   "cell_type": "code",
   "execution_count": 108,
   "metadata": {
    "id": "5RqZyACYnefw"
   },
   "outputs": [
    {
     "name": "stdout",
     "output_type": "stream",
     "text": [
      "0.9989650563872696\n"
     ]
    }
   ],
   "source": [
    "# AUC:\n",
    "AUC_RandomForest = metrics.auc(fpr_Randomforest, tpr_Randomforest)\n",
    "print(AUC_RandomForest)"
   ]
  },
  {
   "cell_type": "code",
   "execution_count": 109,
   "metadata": {
    "id": "yFEFRp3Kng5W"
   },
   "outputs": [
    {
     "data": {
      "image/png": "[encoded data removed]",
      "text/plain": [
       "<Figure size 432x288 with 1 Axes>"
      ]
     },
     "metadata": {
      "needs_background": "light"
     },
     "output_type": "display_data"
    }
   ],
   "source": [
    "# Importing the \"pyplot\" package of \"matplotlib\" library of python to generate \n",
    "# graphs and plot curves:\n",
    "import matplotlib.pyplot as plt\n",
    "\n",
    "# The following line will tell Jupyter Notebook to keep the figures inside the explorer page \n",
    "# rather than openng a new figure window:\n",
    "%matplotlib inline\n",
    "\n",
    "plt.figure()\n",
    "\n",
    "# Roc Curve:\n",
    "plt.plot(fpr_Randomforest,tpr_Randomforest, color='red', lw=5, \n",
    "         label='ROC Curve (area = %0.2f)' % AUC_RandomForest)\n",
    "\n",
    "# Random Guess line:\n",
    "plt.plot([0, 2], [0, 2], color='blue', lw=1, linestyle='--')\n",
    "\n",
    "# Defining The Range of X-Axis and Y-Axis:\n",
    "plt.xlim([-0.005, 2.005])\n",
    "plt.ylim([0.0, 2.01])\n",
    "\n",
    "# Labels, Title, Legend:\n",
    "plt.xlabel('False Positive Rate')\n",
    "plt.ylabel('True Positive Rate')\n",
    "plt.title('Receiver operating characteristic')\n",
    "plt.legend(loc=\"lower right\")\n",
    "\n",
    "plt.show()"
   ]
  },
  {
   "cell_type": "markdown",
   "metadata": {},
   "source": [
    "# ML4_Algorithm : Gradient Boosting Classifier"
   ]
  },
  {
   "cell_type": "code",
   "execution_count": 110,
   "metadata": {
    "id": "sv85aiWPnGAJ"
   },
   "outputs": [],
   "source": [
    "from sklearn.ensemble import GradientBoostingClassifier"
   ]
  },
  {
   "cell_type": "code",
   "execution_count": 111,
   "metadata": {
    "id": "Al4zgFaxnGAJ",
    "outputId": "f32cadc3-ef4e-4b4e-c7e4-86a33e045ac8"
   },
   "outputs": [
    {
     "data": {
      "text/plain": [
       "GradientBoostingClassifier(random_state=0)"
      ]
     },
     "execution_count": 111,
     "metadata": {},
     "output_type": "execute_result"
    }
   ],
   "source": [
    "Gradient_boosting_classifier = GradientBoostingClassifier(random_state=0)\n",
    "Gradient_boosting_classifier.fit(x_vector_train_data, y_train_data)"
   ]
  },
  {
   "cell_type": "code",
   "execution_count": 112,
   "metadata": {
    "id": "3iPOT_BAnGAJ"
   },
   "outputs": [],
   "source": [
    "# Predicting the Binary Label:\n",
    "y_predict_Gradient_boosting_classifier = Gradient_boosting_classifier.predict(x_vector_test_data)"
   ]
  },
  {
   "cell_type": "code",
   "execution_count": 114,
   "metadata": {
    "id": "wb6kLQhYnGAJ",
    "outputId": "f557dcca-ae7b-43f3-9458-53d2e3510f88"
   },
   "outputs": [
    {
     "data": {
      "text/plain": [
       "0.9950980392156863"
      ]
     },
     "execution_count": 114,
     "metadata": {},
     "output_type": "execute_result"
    }
   ],
   "source": [
    "Gradient_boosting_classifier.score(x_vector_test_data, y_test_data)"
   ]
  },
  {
   "cell_type": "code",
   "execution_count": 115,
   "metadata": {},
   "outputs": [
    {
     "name": "stdout",
     "output_type": "stream",
     "text": [
      "              precision    recall  f1-score   support\n",
      "\n",
      "           0       1.00      0.99      1.00      5903\n",
      "           1       0.99      1.00      0.99      5317\n",
      "\n",
      "    accuracy                           1.00     11220\n",
      "   macro avg       1.00      1.00      1.00     11220\n",
      "weighted avg       1.00      1.00      1.00     11220\n",
      "\n"
     ]
    }
   ],
   "source": [
    "print(classification_report(y_test_data, y_predict_Gradient_boosting_classifier))"
   ]
  },
  {
   "cell_type": "code",
   "execution_count": 116,
   "metadata": {
    "id": "EtAl9LP3p4W9"
   },
   "outputs": [
    {
     "name": "stdout",
     "output_type": "stream",
     "text": [
      "6070     1\n",
      "33541    0\n",
      "33575    1\n",
      "9627     1\n",
      "41265    1\n",
      "        ..\n",
      "41142    1\n",
      "2275     0\n",
      "44033    1\n",
      "34922    1\n",
      "20014    1\n",
      "Name: fake/true, Length: 11220, dtype: int64\n",
      "[1 0 1 ... 1 1 1]\n",
      "[[0.01282543 0.98717457]\n",
      " [0.99577822 0.00422178]\n",
      " [0.00698056 0.99301944]\n",
      " ...\n",
      " [0.00698056 0.99301944]\n",
      " [0.01549616 0.98450384]\n",
      " [0.00698056 0.99301944]]\n",
      "[0.98717457 0.00422178 0.99301944 ... 0.99301944 0.98450384 0.99301944]\n"
     ]
    }
   ],
   "source": [
    "# Estimating the probability (likelihood) of Each Label: \n",
    "y_predict_prob_Gradient_boosting_classifier = Gradient_boosting_classifier.predict_proba(x_vector_test_data)\n",
    "\n",
    "# This line prints the \"actual label\" of the testing set:\n",
    "print(y_test_data)\n",
    "\n",
    "# This line prints the \"predicted label\" for the testing set:\n",
    "print(y_predict_Gradient_boosting_classifier)\n",
    "\n",
    "# This line prints the \"estimated likelihood of both label\" for the testing set:\n",
    "print(y_predict_prob_Gradient_boosting_classifier)\n",
    "\n",
    "# This line prints the \"estimated likelihood of label=1\" for the testing set:\n",
    "print(y_predict_prob_Gradient_boosting_classifier[:,1])"
   ]
  },
  {
   "cell_type": "code",
   "execution_count": 117,
   "metadata": {
    "id": "VcMfuYcCp6vq"
   },
   "outputs": [
    {
     "name": "stdout",
     "output_type": "stream",
     "text": [
      "[0.00000000e+00 0.00000000e+00 1.69405387e-04 1.69405387e-04\n",
      " 1.69405387e-04 1.69405387e-04 1.69405387e-04 1.69405387e-04\n",
      " 1.69405387e-04 1.69405387e-04 1.69405387e-04 1.69405387e-04\n",
      " 3.38810774e-04 3.38810774e-04 3.38810774e-04 5.08216161e-04\n",
      " 5.08216161e-04 5.08216161e-04 5.08216161e-04 1.18583771e-03\n",
      " 1.18583771e-03 1.18583771e-03 1.18583771e-03 1.18583771e-03\n",
      " 1.18583771e-03 1.18583771e-03 1.18583771e-03 1.18583771e-03\n",
      " 1.18583771e-03 1.18583771e-03 1.18583771e-03 1.18583771e-03\n",
      " 1.18583771e-03 1.69405387e-03 1.69405387e-03 1.69405387e-03\n",
      " 1.69405387e-03 1.69405387e-03 1.69405387e-03 1.69405387e-03\n",
      " 1.69405387e-03 1.69405387e-03 1.69405387e-03 1.69405387e-03\n",
      " 1.69405387e-03 1.69405387e-03 1.69405387e-03 1.69405387e-03\n",
      " 1.69405387e-03 1.69405387e-03 1.69405387e-03 1.69405387e-03\n",
      " 1.69405387e-03 1.69405387e-03 1.86345926e-03 1.86345926e-03\n",
      " 2.03286465e-03 2.03286465e-03 2.20227003e-03 2.20227003e-03\n",
      " 2.54108081e-03 2.87989158e-03 2.87989158e-03 3.04929697e-03\n",
      " 3.04929697e-03 5.92918855e-03 5.92918855e-03 6.26799932e-03\n",
      " 6.26799932e-03 7.11502626e-03 7.11502626e-03 7.45383703e-03\n",
      " 7.96205319e-03 8.30086397e-03 8.63967474e-03 8.97848552e-03\n",
      " 9.82551245e-03 1.01643232e-02 1.08419448e-02 1.11807555e-02\n",
      " 1.13501609e-02 1.16889717e-02 1.20277825e-02 1.23665933e-02\n",
      " 1.30442148e-02 1.33830256e-02 1.35524310e-02 8.48720989e-02\n",
      " 8.70743690e-02 1.45688633e-01 1.47552092e-01 1.74487549e-01\n",
      " 1.74826359e-01 2.00406573e-01 2.12773166e-01 2.13111977e-01\n",
      " 2.23953922e-01 2.57665594e-01 6.92698628e-01 7.24377435e-01\n",
      " 9.97120108e-01 9.97967135e-01 9.98136541e-01 9.98475352e-01\n",
      " 9.98644757e-01 9.98983568e-01 9.99152973e-01 9.99491784e-01\n",
      " 1.00000000e+00]\n",
      "[0.00000000e+00 1.88075983e-04 7.03216099e-01 7.03780327e-01\n",
      " 7.11679519e-01 7.23528305e-01 7.96689863e-01 8.00075230e-01\n",
      " 8.02144066e-01 8.02332142e-01 8.17190145e-01 8.17942449e-01\n",
      " 8.56874177e-01 8.57626481e-01 8.57814557e-01 8.58378785e-01\n",
      " 8.58754937e-01 8.58943013e-01 8.59319165e-01 9.60504044e-01\n",
      " 9.60692120e-01 9.61256348e-01 9.61632500e-01 9.63513259e-01\n",
      " 9.64077487e-01 9.69343615e-01 9.71224375e-01 9.71600527e-01\n",
      " 9.71976679e-01 9.73481286e-01 9.74233590e-01 9.74797818e-01\n",
      " 9.75173970e-01 9.75362046e-01 9.75926274e-01 9.76678578e-01\n",
      " 9.76866654e-01 9.77242806e-01 9.77618958e-01 9.79311642e-01\n",
      " 9.79687794e-01 9.83073162e-01 9.83261238e-01 9.87022757e-01\n",
      " 9.87398909e-01 9.88527365e-01 9.89091593e-01 9.89843897e-01\n",
      " 9.90972353e-01 9.91348505e-01 9.91912733e-01 9.92100809e-01\n",
      " 9.92853113e-01 9.94545797e-01 9.94545797e-01 9.94921948e-01\n",
      " 9.94921948e-01 9.95110024e-01 9.95110024e-01 9.95298100e-01\n",
      " 9.95298100e-01 9.95298100e-01 9.95486176e-01 9.95486176e-01\n",
      " 9.95674252e-01 9.95674252e-01 9.95862328e-01 9.95862328e-01\n",
      " 9.96050404e-01 9.96050404e-01 9.96802708e-01 9.96802708e-01\n",
      " 9.96802708e-01 9.96802708e-01 9.96802708e-01 9.96990784e-01\n",
      " 9.96990784e-01 9.97178860e-01 9.97178860e-01 9.97178860e-01\n",
      " 9.97178860e-01 9.97178860e-01 9.97178860e-01 9.97178860e-01\n",
      " 9.97178860e-01 9.97178860e-01 9.97178860e-01 9.98495392e-01\n",
      " 9.98683468e-01 9.98683468e-01 9.98683468e-01 9.99247696e-01\n",
      " 9.99247696e-01 9.99247696e-01 9.99623848e-01 9.99623848e-01\n",
      " 9.99623848e-01 9.99623848e-01 1.00000000e+00 1.00000000e+00\n",
      " 1.00000000e+00 1.00000000e+00 1.00000000e+00 1.00000000e+00\n",
      " 1.00000000e+00 1.00000000e+00 1.00000000e+00 1.00000000e+00\n",
      " 1.00000000e+00]\n",
      "0.9993321598046228\n"
     ]
    }
   ],
   "source": [
    "from sklearn import metrics\n",
    "\n",
    "fpr_Gradient_boosting_classifier, tpr_Gradient_boosting_classifier, thresholds = metrics.roc_curve(y_test_data, y_predict_prob_Gradient_boosting_classifier[:,1], pos_label=1)\n",
    "\n",
    "print(fpr_Gradient_boosting_classifier)\n",
    "print(tpr_Gradient_boosting_classifier)\n",
    "\n",
    "# AUC:\n",
    "AUC_Gradient_boosting_classifier = metrics.auc(fpr_Gradient_boosting_classifier, tpr_Gradient_boosting_classifier)\n",
    "print(AUC_Gradient_boosting_classifier)\n",
    "\n"
   ]
  },
  {
   "cell_type": "code",
   "execution_count": 118,
   "metadata": {
    "id": "Fsv9w9G7p_7r"
   },
   "outputs": [
    {
     "data": {
      "image/png": "[encoded data removed]",
      "text/plain": [
       "<Figure size 432x288 with 1 Axes>"
      ]
     },
     "metadata": {
      "needs_background": "light"
     },
     "output_type": "display_data"
    }
   ],
   "source": [
    "# Importing the \"pyplot\" package of \"matplotlib\" library of python to generate \n",
    "# graphs and plot curves:\n",
    "import matplotlib.pyplot as plt\n",
    "\n",
    "# The following line will tell Jupyter Notebook to keep the figures inside the explorer page \n",
    "# rather than openng a new figure window:\n",
    "%matplotlib inline\n",
    "\n",
    "plt.figure()\n",
    "\n",
    "# Roc Curve:\n",
    "plt.plot(fpr_Randomforest,tpr_Randomforest, color='red', lw=2, \n",
    "         label='ROC Curve (area = %0.2f)' % AUC_Gradient_boosting_classifier)\n",
    "\n",
    "# Random Guess line:\n",
    "plt.plot([0, 2], [0, 2], color='blue', lw=1, linestyle='--')\n",
    "\n",
    "# Defining The Range of X-Axis and Y-Axis:\n",
    "plt.xlim([-0.005, 2.005])\n",
    "plt.ylim([0.0, 2.01])\n",
    "\n",
    "# Labels, Title, Legend:\n",
    "plt.xlabel('False Positive Rate')\n",
    "plt.ylabel('True Positive Rate')\n",
    "plt.title('Receiver operating characteristic')\n",
    "plt.legend(loc=\"lower right\")\n",
    "\n",
    "plt.show()"
   ]
  },
  {
   "cell_type": "markdown",
   "metadata": {},
   "source": [
    "# Comparing the Algorithm's AUC values and plotting the ROC curves"
   ]
  },
  {
   "cell_type": "code",
   "execution_count": 119,
   "metadata": {
    "id": "h_lbZs2OnGAI",
    "outputId": "d76cc62e-6da5-4b35-898c-f9a16b51fd67"
   },
   "outputs": [
    {
     "data": {
      "image/png": "[encoded data removed]",
      "text/plain": [
       "<Figure size 432x288 with 1 Axes>"
      ]
     },
     "metadata": {
      "needs_background": "light"
     },
     "output_type": "display_data"
    }
   ],
   "source": [
    "# The following line will tell Jupyter Notebook to keep the figures inside the explorer page \n",
    "%matplotlib inline\n",
    "\n",
    "plt.figure()\n",
    "\n",
    "# Roc Curve1 - Logistic Regression:\n",
    "plt.plot(fpr, tpr, color='red', lw=4, \n",
    "         label='ROC Curve (area = %0.2f)' % AUC)\n",
    "\n",
    "# Roc Curve2 - Decision Tree Classifier:\n",
    "plt.plot(fpr1_decision_tree, tpr1_decision_tree, color='green', lw=4, \n",
    "         label='ROC Curve (area = %0.2f)' % AUC_decision_Tree_classifier)\n",
    "\n",
    "# Roc Curve3 - Gradient Boosting Classifier:\n",
    "plt.plot(fpr_Gradient_boosting_classifier, tpr_Gradient_boosting_classifier, color='black', lw=2, \n",
    "         label='ROC Curve (area = %0.2f)' % AUC_Gradient_boosting_classifier)\n",
    "\n",
    "# Roc Curve4 - Random Forest:\n",
    "plt.plot(fpr_Randomforest, tpr_Randomforest, color='yellow', lw=2, \n",
    "         label='ROC Curve (area = %0.2f)' % AUC_RandomForest)\n",
    "\n",
    "# Random Guess line:\n",
    "plt.plot([0, 2], [0, 2], color='blue', lw=1, linestyle='--')\n",
    "\n",
    "# Defining The Range of X-Axis and Y-Axis:\n",
    "plt.xlim([-0.005, 2.005])\n",
    "plt.ylim([0.0, 2.01])\n",
    "\n",
    "# Labels, Title, Legend:\n",
    "plt.xlabel('False Positive Rate')\n",
    "plt.ylabel('True Positive Rate')\n",
    "plt.title('Receiver operating characteristic')\n",
    "plt.legend(loc=\"lower right\")\n",
    "\n",
    "plt.show()"
   ]
  },
  {
   "cell_type": "markdown",
   "metadata": {
    "id": "EsRuNxvJnGAK"
   },
   "source": [
    "# Testing the Model \n"
   ]
  },
  {
   "cell_type": "markdown",
   "metadata": {},
   "source": [
    "Step 14: Here we are going to enter the news manually from the dataset we had created , and test the model by giving the news as input.The model will test the news data given as input and detect if it is fake or true and display the result."
   ]
  },
  {
   "cell_type": "code",
   "execution_count": 122,
   "metadata": {
    "id": "1DuOnr2NnGAK"
   },
   "outputs": [],
   "source": [
    "def output_lable(n):\n",
    "    if n == 0:\n",
    "        return \"This is a Fake News\"\n",
    "    elif n == 1:\n",
    "        return \"This is Not A Fake News\"\n",
    "    \n",
    "def manual_testing(input_news):\n",
    "    news_test = {\"text\":[input_news]}\n",
    "    test_new_def = pd.DataFrame(news_test)\n",
    "    test_new_def[\"text\"] = test_new_def[\"text\"].apply(word_del) \n",
    "    new_x_test = test_new_def[\"text\"]\n",
    "    new_x_vector_test = vector.transform(new_x_test)\n",
    "    Log_Reg_pred = logistic_Reg.predict(new_x_vector_test)\n",
    "    Dec_Tree_pred = decision_Tree_classifier.predict(new_x_vector_test)\n",
    "    Gradient_pred = Gradient_boosting_classifier.predict(new_x_vector_test)\n",
    "    Random_Forest_pred = RandomForest.predict(new_x_vector_test)\n",
    "\n",
    "    return print(\"\\n\\nLogistic Regression Prediction: {} \\nDecision Tree Prediction: {} \\nGradient Boosting Classifier Prediction: {} \\nRandom Forest Classifier Prediction: {}\".format(output_lable(Log_Reg_pred[0]), \n",
    "                                                                                                                                                                                        output_lable(Dec_Tree_pred[0]), \n",
    "                                                                                                                                                                                        output_lable(Gradient_pred[0]), \n",
    "                                                                                                                                                                                        output_lable(Random_Forest_pred[0])))"
   ]
  },
  {
   "cell_type": "code",
   "execution_count": 123,
   "metadata": {
    "id": "QP_nvzIJnGAK"
   },
   "outputs": [
    {
     "name": "stdout",
     "output_type": "stream",
     "text": [
      "21407,\"Mata Pires, owner of embattled Brazil builder OAS, dies\",\"SAO PAULO (Reuters) - Cesar Mata Pires, the owner and co-founder of Brazilian engineering conglomerate OAS SA, one of the largest companies involved in Brazil s corruption scandal, died on Tuesday. He was 68. Mata Pires died of a heart attack while taking a morning walk in an upscale district of S o Paulo, where OAS is based, a person with direct knowledge of the matter said. Efforts to contact his family were unsuccessful. OAS declined to comment. The son of a wealthy cattle rancher in the northeastern state of Bahia, Mata Pires  links to politicians were central to the expansion of OAS, which became Brazil s No. 4 builder earlier this decade, people familiar with his career told Reuters last year. His big break came when he befriended Antonio Carlos Magalh es, a popular politician who was Bahia governor several times, and eventually married his daughter Tereza. Brazilians joked that OAS stood for  Obras Arranjadas pelo Sogro  - or  Work Arranged by the Father-In-Law.   After years of steady growth triggered by a flurry of massive government contracts, OAS was ensnared in Operation Car Wash which unearthed an illegal contracting ring between state firms and builders. The ensuing scandal helped topple former Brazilian President Dilma Rousseff last year. Trained as an engineer, Mata Pires founded OAS with two colleagues in 1976 to do sub-contracting work for larger rival Odebrecht SA - the biggest of the builders involved in the probe.  Before the scandal, Forbes magazine estimated Mata Pires  fortune at $1.6 billion. He dropped off the magazine s billionaire list in 2015, months after OAS sought bankruptcy protection after the Car Wash scandal. While Mata Pires was never accused of wrongdoing in the investigations, creditors demanded he and his family stay away from the builder s day-to-day operations, people directly involved in the negotiations told Reuters at the time. He is survived by his wife and his two sons.         \",worldnews,\"August 22, 2017 \",1 21408,\"U.\n",
      "\n",
      "\n",
      "Logistic Regression Prediction: This is Not A Fake News \n",
      "Decision Tree Prediction: This is Not A Fake News \n",
      "Gradient Boosting Classifier Prediction: This is Not A Fake News \n",
      "Random Forest Classifier Prediction: This is Not A Fake News\n"
     ]
    }
   ],
   "source": [
    "input_news = str(input())\n",
    "manual_testing(input_news) # textbox to be displayed"
   ]
  },
  {
   "cell_type": "code",
   "execution_count": null,
   "metadata": {
    "id": "3ZJQ4jR9nGAL"
   },
   "outputs": [],
   "source": []
  },
  {
   "cell_type": "code",
   "execution_count": null,
   "metadata": {},
   "outputs": [],
   "source": []
  }
 ],
 "metadata": {
  "colab": {
   "name": "Fake_news_detection (3).ipynb",
   "provenance": []
  },
  "kernelspec": {
   "display_name": "Python 3",
   "language": "python",
   "name": "python3"
  },
  "language_info": {
   "codemirror_mode": {
    "name": "ipython",
    "version": 3
   },
   "file_extension": ".py",
   "mimetype": "text/x-python",
   "name": "python",
   "nbconvert_exporter": "python",
   "pygments_lexer": "ipython3",
   "version": "3.8.8"
  }
 },
 "nbformat": 4,
 "nbformat_minor": 1
}
